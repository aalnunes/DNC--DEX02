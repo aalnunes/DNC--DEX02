{
  "nbformat": 4,
  "nbformat_minor": 0,
  "metadata": {
    "colab": {
      "name": "Altura par ou impar.ipynb",
      "provenance": [],
      "authorship_tag": "ABX9TyP3KeimGedFpcmTSJXGC8qk",
      "include_colab_link": true
    },
    "kernelspec": {
      "name": "python3",
      "display_name": "Python 3"
    },
    "language_info": {
      "name": "python"
    }
  },
  "cells": [
    {
      "cell_type": "markdown",
      "metadata": {
        "id": "view-in-github",
        "colab_type": "text"
      },
      "source": [
        "<a href=\"https://colab.research.google.com/github/aalnunes/DNC--DEX02/blob/main/Altura_par_ou_impar.ipynb\" target=\"_parent\"><img src=\"https://colab.research.google.com/assets/colab-badge.svg\" alt=\"Open In Colab\"/></a>"
      ]
    },
    {
      "cell_type": "markdown",
      "metadata": {
        "id": "szWQqwTBgPq9"
      },
      "source": [
        "A fisioterapeuta que você vai gosta muito de brincar com números, e\n",
        "pediu para você criar um sistema que verifique se a altura inserida é\n",
        "par ou impar.\n"
      ]
    },
    {
      "cell_type": "code",
      "metadata": {
        "colab": {
          "base_uri": "https://localhost:8080/"
        },
        "id": "ly3Q_rjvgK-E",
        "outputId": "437d8513-e45b-40ee-e98e-07323e4500c5"
      },
      "source": [
        "altura = int(input('Insira sua altura em cm, \"Ex: 184\": '))\n",
        "\n",
        "if altura % 2 ==0:\n",
        "  print('A sua altura é par.')\n",
        "else:\n",
        "  print('a sua altura é impar.')\n",
        "\n",
        "print(altura)"
      ],
      "execution_count": 8,
      "outputs": [
        {
          "output_type": "stream",
          "name": "stdout",
          "text": [
            "Insira sua altura em cm, \"Ex: 184\": 185\n",
            "a sua altura é impar\n",
            "185\n"
          ]
        }
      ]
    }
  ]
}