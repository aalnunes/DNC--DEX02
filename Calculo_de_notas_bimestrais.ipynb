{
  "nbformat": 4,
  "nbformat_minor": 0,
  "metadata": {
    "colab": {
      "name": "Calculo_de_notas_bimestrais.ipynb",
      "provenance": [],
      "authorship_tag": "ABX9TyOOu9nVuxegSp/LsEwmBewu",
      "include_colab_link": true
    },
    "kernelspec": {
      "name": "python3",
      "display_name": "Python 3"
    },
    "language_info": {
      "name": "python"
    }
  },
  "cells": [
    {
      "cell_type": "markdown",
      "metadata": {
        "id": "view-in-github",
        "colab_type": "text"
      },
      "source": [
        "<a href=\"https://colab.research.google.com/github/aalnunes/DNC--DEX02/blob/main/Calculo_de_notas_bimestrais.ipynb\" target=\"_parent\"><img src=\"https://colab.research.google.com/assets/colab-badge.svg\" alt=\"Open In Colab\"/></a>"
      ]
    },
    {
      "cell_type": "markdown",
      "metadata": {
        "id": "ZEBIkR5ob0vP"
      },
      "source": [
        "Esse bimestre na faculdade você precisa tirar nota 8 de média para\n",
        "passar na matéria, desenvolva um script que leia a nota de suas\n",
        "últimas 3 provas, tire a média delas e verifique se você passou.\n"
      ]
    },
    {
      "cell_type": "code",
      "metadata": {
        "colab": {
          "base_uri": "https://localhost:8080/"
        },
        "id": "vgjj5mOObvy4",
        "outputId": "6a38aa2b-69e0-4592-a9a0-55e35fb957cd"
      },
      "source": [
        "print('***'*5,'Fauldade DNC','***'*5)\n",
        "\n",
        "nota_a = float(input('Insria a nota da sua primeira prova: '))\n",
        "nota_b = float(input('Insira a nota da sua segunda prova:'))\n",
        "nota_c = float(input('Insira a nota da sua terceira prova: '))\n",
        "\n",
        "media = (nota_a +nota_b+ nota_c) / 3\n",
        "media = round(media,2)\n",
        "\n",
        "if media >= 8:\n",
        "  print('Parabens, sua nota foi {}, voce foi aprovado!'.format(media))\n",
        "\n",
        "else:\n",
        "  print('Infelizmente voce nao f11oi aprovado, mas pode tentar novamente em 7 dias.')"
      ],
      "execution_count": 8,
      "outputs": [
        {
          "output_type": "stream",
          "name": "stdout",
          "text": [
            "*************** Fauldade DNC ***************\n",
            "Insria a nota da sua primeira prova: 10\n",
            "Insira a nota da sua segunda prova:0\n",
            "Insira a nota da sua terceira prova: 15\n",
            "Parabens, sua nota foi 8.33, voce foi aprovado!\n"
          ]
        }
      ]
    }
  ]
}