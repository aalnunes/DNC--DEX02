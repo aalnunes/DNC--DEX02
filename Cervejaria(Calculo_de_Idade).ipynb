{
  "nbformat": 4,
  "nbformat_minor": 0,
  "metadata": {
    "colab": {
      "name": "Cervejaria(Calculo de Idade).ipynb",
      "provenance": [],
      "authorship_tag": "ABX9TyNq1fFcwPbUSzNr5V4o76Cs",
      "include_colab_link": true
    },
    "kernelspec": {
      "name": "python3",
      "display_name": "Python 3"
    },
    "language_info": {
      "name": "python"
    }
  },
  "cells": [
    {
      "cell_type": "markdown",
      "metadata": {
        "id": "view-in-github",
        "colab_type": "text"
      },
      "source": [
        "<a href=\"https://colab.research.google.com/github/aalnunes/DNC--DEX02/blob/main/Cervejaria(Calculo_de_Idade).ipynb\" target=\"_parent\"><img src=\"https://colab.research.google.com/assets/colab-badge.svg\" alt=\"Open In Colab\"/></a>"
      ]
    },
    {
      "cell_type": "markdown",
      "metadata": {
        "id": "rOOYcAsg8c4C"
      },
      "source": [
        "CONDICIONAIS\n",
        "EXERCÍCIO\n",
        "\n",
        "Você deverá utilizar o que aprendeu nas aulas de condicionais para\n",
        "desenvolver os desafios a seguir:\n",
        "1. Seu primeiro desafio é desenvolver um programa para um depósito de\n",
        "bebidas que valide venda de bebidas para maiores de idade (maior ou\n",
        "igual 18 anos) no mercado, o programa deve receber do usuário os\n",
        "valores do nome e ano que ele nasceu e retornar se ele pode comprar\n",
        "bebidas.\n"
      ]
    },
    {
      "cell_type": "code",
      "metadata": {
        "colab": {
          "base_uri": "https://localhost:8080/"
        },
        "id": "1ysytQfz8cKo",
        "outputId": "b41569a1-af3b-4d45-c559-5ee4922c2b73"
      },
      "source": [
        "import datetime\n",
        "\n",
        "data_atual= datetime.datetime.today()\n",
        "\n",
        "ano_atual = datetime.date.today()\n",
        "year = ano_atual.strftime(\"%Y\")\n",
        "\n",
        "\n",
        "year = int(year)\n",
        "\n",
        "print('----------------- Ambev ------------------')\n",
        "print()\n",
        "print('Olá para prosseguirmos com a venda informe seus dados para cadastro')\n",
        "\n",
        "nome = str(input('Informe seu nome completo: '))\n",
        "\n",
        "ano_nascimento = int(input('Informe o Ano de nascimento: EX 9999: '))\n",
        "\n",
        "calculo = year - ano_nascimento\n",
        "\n",
        "if calculo >= 18:\n",
        "  print('Olá {}, obrigado por validar sua idade, voce pode comprar bebidas alcolicas'.format(nome))\n",
        "\n",
        "else:\n",
        "  print('{}, você tem apenas {} anos de idade, não pode comprar bebida alcolica conforme o Lei 8.069/1990, art. 243)'.format(nome, calculo))\n",
        "\n",
        "\n",
        "\n"
      ],
      "execution_count": 18,
      "outputs": [
        {
          "output_type": "stream",
          "name": "stdout",
          "text": [
            "----------------- Ambev ------------------\n",
            "\n",
            "Olá para prosseguirmos com a venda informe seus dados para cadastro\n",
            "Informe seu nome completo: Alisson Fernandes\n",
            "Informe o Ano de nascimento: EX 9999: 2008\n",
            "Alisson Fernandes, você tem apenas 13 anos de idade, não pode comprar bebida alcolica conforme o Lei 8.069/1990, art. 243)\n"
          ]
        }
      ]
    }
  ]
}