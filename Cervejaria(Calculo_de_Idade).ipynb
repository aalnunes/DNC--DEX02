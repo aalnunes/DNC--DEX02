{
  "nbformat": 4,
  "nbformat_minor": 0,
  "metadata": {
    "colab": {
      "name": "Cervejaria(Calculo de Idade).ipynb",
      "provenance": [],
      "authorship_tag": "ABX9TyMqXjn45j247skfcgxcutMS",
      "include_colab_link": true
    },
    "kernelspec": {
      "name": "python3",
      "display_name": "Python 3"
    },
    "language_info": {
      "name": "python"
    }
  },
  "cells": [
    {
      "cell_type": "markdown",
      "metadata": {
        "id": "view-in-github",
        "colab_type": "text"
      },
      "source": [
        "<a href=\"https://colab.research.google.com/github/aalnunes/DNC--DEX02/blob/main/Cervejaria(Calculo_de_Idade).ipynb\" target=\"_parent\"><img src=\"https://colab.research.google.com/assets/colab-badge.svg\" alt=\"Open In Colab\"/></a>"
      ]
    },
    {
      "cell_type": "markdown",
      "metadata": {
        "id": "rOOYcAsg8c4C"
      },
      "source": [
        "CONDICIONAIS\n",
        "EXERCÍCIO\n",
        "\n",
        "Você deverá utilizar o que aprendeu nas aulas de condicionais para\n",
        "desenvolver os desafios a seguir:\n",
        "1. Seu primeiro desafio é desenvolver um programa para um depósito de\n",
        "bebidas que valide venda de bebidas para maiores de idade (maior ou\n",
        "igual 18 anos) no mercado, o programa deve receber do usuário os\n",
        "valores do nome e ano que ele nasceu e retornar se ele pode comprar\n",
        "bebidas.\n"
      ]
    },
    {
      "cell_type": "code",
      "metadata": {
        "colab": {
          "base_uri": "https://localhost:8080/",
          "height": 235
        },
        "id": "1ysytQfz8cKo",
        "outputId": "79de3df8-4fea-434f-8e8f-bd45b3220365"
      },
      "source": [
        "import datetime\n",
        "\n",
        "data_atual= datetime.datetime.today()\n",
        "\n",
        "data_atual_formatada = '{}/{}/{}'.format(data_atual.day,data_atual.month, data_atual.year)\n",
        "print(data_atual_formatada)\n",
        "print('----------------- Ambev ------------------')\n",
        "print()\n",
        "print('Olá para prosseguirmos com a venda informe seus dados para cadastro')\n",
        "\n",
        "nome = str(input('Informe seu nome completo: '))\n",
        "\n",
        "ano_nascimento = int(input('Informe o Ano de nascimento: EX 9999: '))\n",
        "mes_nascimento = int( input('Informe o Mes de Nascimento: EX FEV | 2: '))\n",
        "dia_nascimento = int(input('informe o Dia de nascimento: '))\n",
        "\n",
        "idade_atual = '{}/{}/{}'.format(dia_nascimento, mes_nascimento, ano_nascimento)\n",
        "\n",
        "idade_atual = datetime.strptime(idade_atual, '%d/%m/%Y').date()\n",
        "\n",
        "diff = data_atual - idade_atual\n",
        "\n",
        "days = diff.days\n",
        "years = days, days//365, days% 365\n",
        "\n",
        "print(years)\n",
        "\n"
      ],
      "execution_count": 56,
      "outputs": [
        {
          "output_type": "error",
          "ename": "TypeError",
          "evalue": "ignored",
          "traceback": [
            "\u001b[0;31m---------------------------------------------------------------------------\u001b[0m",
            "\u001b[0;31mTypeError\u001b[0m                                 Traceback (most recent call last)",
            "\u001b[0;32m<ipython-input-56-eb6bd62d6603>\u001b[0m in \u001b[0;36m<module>\u001b[0;34m()\u001b[0m\n\u001b[1;32m      2\u001b[0m \u001b[0;34m\u001b[0m\u001b[0m\n\u001b[1;32m      3\u001b[0m \u001b[0midade\u001b[0m \u001b[0;34m=\u001b[0m \u001b[0;34m{\u001b[0m\u001b[0;36m2014\u001b[0m\u001b[0;34m,\u001b[0m\u001b[0;36m7\u001b[0m\u001b[0;34m,\u001b[0m\u001b[0;36m16\u001b[0m\u001b[0;34m,\u001b[0m\u001b[0;36m23\u001b[0m\u001b[0;34m}\u001b[0m\u001b[0;34m\u001b[0m\u001b[0;34m\u001b[0m\u001b[0m\n\u001b[0;32m----> 4\u001b[0;31m \u001b[0md1\u001b[0m \u001b[0;34m=\u001b[0m \u001b[0mdatetime\u001b[0m\u001b[0;34m.\u001b[0m\u001b[0mdatetime\u001b[0m\u001b[0;34m(\u001b[0m\u001b[0midade\u001b[0m\u001b[0;34m)\u001b[0m\u001b[0;34m\u001b[0m\u001b[0;34m\u001b[0m\u001b[0m\n\u001b[0m\u001b[1;32m      5\u001b[0m \u001b[0md2\u001b[0m \u001b[0;34m=\u001b[0m \u001b[0mdatetime\u001b[0m\u001b[0;34m.\u001b[0m\u001b[0mdatetime\u001b[0m\u001b[0;34m.\u001b[0m\u001b[0mnow\u001b[0m\u001b[0;34m(\u001b[0m\u001b[0;34m)\u001b[0m\u001b[0;34m\u001b[0m\u001b[0;34m\u001b[0m\u001b[0m\n\u001b[1;32m      6\u001b[0m \u001b[0;34m\u001b[0m\u001b[0m\n",
            "\u001b[0;31mTypeError\u001b[0m: an integer is required (got type set)"
          ]
        }
      ]
    },
    {
      "cell_type": "code",
      "metadata": {
        "colab": {
          "base_uri": "https://localhost:8080/"
        },
        "id": "gIfpAn6aLQuX",
        "outputId": "9cdeb8fb-6500-4eba-e8c8-72255aa86603"
      },
      "source": [
        "import datetime\n",
        "\n",
        "d1 = datetime.datetime(2014,7,16,23)\n",
        "d2 = datetime.datetime.now()\n",
        "\n",
        "diff = d2 - d1\n",
        "\n",
        "days = diff.days\n",
        "years, days = days // 365, days % 365\n",
        "months, days = days // 30, days % 30\n",
        "\n",
        "seconds = diff.seconds\n",
        "hours, seconds = seconds // 3600, seconds % 3600\n",
        "minutes, seconds = seconds // 60, seconds % 60\n",
        "\n",
        "print(\"Desde {} passaram {} anos, {} meses, {} dias, {} horas, {} minutos e {} segundos\".format(d1, years, months, days, hours, minutes, seconds))"
      ],
      "execution_count": 36,
      "outputs": [
        {
          "output_type": "stream",
          "name": "stdout",
          "text": [
            "Desde 2014-07-16 23:00:00 passaram 7 anos, 2 meses, 23 dias, 2 horas, 17 minutos e 17 segundos\n"
          ]
        }
      ]
    }
  ]
}