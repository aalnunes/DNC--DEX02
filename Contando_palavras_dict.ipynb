{
  "nbformat": 4,
  "nbformat_minor": 0,
  "metadata": {
    "colab": {
      "name": "Untitled0.ipynb",
      "provenance": [],
      "authorship_tag": "ABX9TyNWFtc+7wHG5h/QPCkJowuR",
      "include_colab_link": true
    },
    "kernelspec": {
      "name": "python3",
      "display_name": "Python 3"
    },
    "language_info": {
      "name": "python"
    }
  },
  "cells": [
    {
      "cell_type": "markdown",
      "metadata": {
        "id": "view-in-github",
        "colab_type": "text"
      },
      "source": [
        "<a href=\"https://colab.research.google.com/github/aalnunes/DNC--DEX02/blob/main/Contando_palavras_dict.ipynb\" target=\"_parent\"><img src=\"https://colab.research.google.com/assets/colab-badge.svg\" alt=\"Open In Colab\"/></a>"
      ]
    },
    {
      "cell_type": "markdown",
      "metadata": {
        "id": "oMZ8_v3Kjsjt"
      },
      "source": [
        "Você recebeu um arquivo chamado usuarios_feedback, nesse arquivo contém o comentário, nome, gênero e nota de usuários referente a um produto de sua empresas. Você precisa verificar quais as palavras que mais apareceram nos comentários:"
      ]
    },
    {
      "cell_type": "code",
      "metadata": {
        "colab": {
          "base_uri": "https://localhost:8080/"
        },
        "id": "Pi4M3navjHqr",
        "outputId": "69f977db-e5f6-4c85-b93b-367616eb9f2f"
      },
      "source": [
        "usuarios_feedback = [{'nome':'Peter','nota':9,'genero':'M','comentario':'bom demais e agil'},\n",
        "{'nome':'Joao','nota':10,'genero':'M','comentario':'agil e eficiente'},\n",
        "{'nome':'user_not_found','nota':0,'genero':'M','comentario':'Horrível'},\n",
        "{'nome':'Marta','nota':10,'genero':'F','comentario':'muito agil bom demais'},\n",
        "{'nome':'Beatriz','nota':10,'genero':'F','comentario':'rápido e eficaz'},\n",
        "{'nome':'user_not_found','nota':2,'genero':'M','comentario':'ruim'},\n",
        "{'nome':'Jéssica','nota':10,'genero':'F','comentario':'agil'},\n",
        "{'nome':'José','nota':7,'genero':'M','comentario':'ok'},\n",
        "{'nome':'Elias','nota':5,'genero':'M','comentario':'precisa melhorar'},\n",
        "{'nome':'Miriã','nota':9,'genero':'F','comentario':'foi muito agil e rápido'},\n",
        "{'nome':'Maria','nota':10,'genero':'F','comentario':'muito bom e agil'}]\n",
        "palavras = []\n",
        "for a in usuarios_feedback:    \n",
        "  palavras.extend(a['comentario'].split())\n",
        "  palavras_unicas = sorted(set(palavras))\n",
        "for y in palavras_unicas:\n",
        "    print(palavras.count(y),y)\n",
        "\n",
        "\n",
        "\n",
        "  \n"
      ],
      "execution_count": 171,
      "outputs": [
        {
          "output_type": "stream",
          "name": "stdout",
          "text": [
            "1 Horrível\n",
            "6 agil\n",
            "3 bom\n",
            "2 demais\n",
            "5 e\n",
            "1 eficaz\n",
            "1 eficiente\n",
            "1 foi\n",
            "1 melhorar\n",
            "3 muito\n",
            "1 ok\n",
            "1 precisa\n",
            "1 ruim\n",
            "2 rápido\n"
          ]
        }
      ]
    },
    {
      "cell_type": "code",
      "metadata": {
        "colab": {
          "base_uri": "https://localhost:8080/"
        },
        "id": "fgqiHrpY4Z2b",
        "outputId": "3a9b3fec-a087-404c-d9ae-788eaa8fd15a"
      },
      "source": [
        "lista1=[1,32,3,4,5]\n",
        "lista2=[True,4,3,2,1]\n",
        "\n",
        "lista3 = zip(lista2, lista1)\n",
        "list(lista3)\n",
        "\n",
        "lista4 = lista2 + lista1\n",
        "\n",
        "print(lista4)\n",
        "\n",
        "ab = sorted(set(lista4))\n",
        "\n",
        "print(ab)"
      ],
      "execution_count": 152,
      "outputs": [
        {
          "output_type": "stream",
          "name": "stdout",
          "text": [
            "[True, 4, 3, 2, 1, 1, 32, 3, 4, 5]\n",
            "[True, 2, 3, 4, 5, 32]\n"
          ]
        }
      ]
    },
    {
      "cell_type": "code",
      "metadata": {
        "colab": {
          "base_uri": "https://localhost:8080/"
        },
        "id": "3ohgF3obLOY0",
        "outputId": "57a8951d-4656-4900-ceee-b855a304da25"
      },
      "source": [
        "dicio=[{'nome':'Alisson Fernandes','nota':10},\n",
        "       {'nome':'Angelo Fernandes','nota':15}]\n",
        "soma = 0\n",
        "for a in dicio:\n",
        "  print(a['nota'])\n",
        "  soma += a['nota']\n",
        "  media = soma / len(dicio)\n",
        "print(soma)\n",
        "print(media)\n"
      ],
      "execution_count": 130,
      "outputs": [
        {
          "output_type": "stream",
          "name": "stdout",
          "text": [
            "10\n",
            "15\n",
            "25\n",
            "12.5\n"
          ]
        }
      ]
    }
  ]
}