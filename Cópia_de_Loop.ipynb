{
  "nbformat": 4,
  "nbformat_minor": 0,
  "metadata": {
    "colab": {
      "name": "Cópia de Loop.ipynb",
      "provenance": [],
      "collapsed_sections": [],
      "include_colab_link": true
    },
    "kernelspec": {
      "name": "python3",
      "display_name": "Python 3"
    }
  },
  "cells": [
    {
      "cell_type": "markdown",
      "metadata": {
        "id": "view-in-github",
        "colab_type": "text"
      },
      "source": [
        "<a href=\"https://colab.research.google.com/github/aalnunes/DNC--DEX02/blob/main/C%C3%B3pia_de_Loop.ipynb\" target=\"_parent\"><img src=\"https://colab.research.google.com/assets/colab-badge.svg\" alt=\"Open In Colab\"/></a>"
      ]
    },
    {
      "cell_type": "markdown",
      "metadata": {
        "id": "-fMcBg4_E7HX"
      },
      "source": [
        "\n",
        "![images.png](data:image/png;base64,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)</b> <br>Consultor: Peterson Almeida <br>\n",
        "\n",
        "\n",
        "\n",
        "<h1> Loop </h1>\n",
        "\n",
        "<b> Geral:</b><br>\n",
        "Loop é uma estrutura de repetição, onde o bloco de código dentro dessa estrutura executa os comandos até a condição do Loop ser False.\n",
        "<br> <br>\n",
        "\n",
        ">Essa nova função nos ajudará resolver o desafio da tarefa anterior de forma mais eficiente e contínua. Para quem não conhece essa estrutura, a prática é essencial para absorver seu funcionamento.\n",
        "\n",
        "\n",
        "\n"
      ]
    },
    {
      "cell_type": "markdown",
      "metadata": {
        "id": "cQNu5xtgTiuM"
      },
      "source": [
        "## Existem duas principais estruturas para criação de Loops, sendo elas:<br> \n",
        "\n",
        "<b>For:</b> *bloco menor e mais utilizado em python*<br>\n",
        "<b>While:</b> *bloco maior, utilizado mais em casos específicos*<br>\n",
        "\n",
        "\n"
      ]
    },
    {
      "cell_type": "code",
      "metadata": {
        "colab": {
          "base_uri": "https://localhost:8080/"
        },
        "id": "AX9K5V3dZiOy",
        "outputId": "d7122740-f60e-4b5f-af31-8c9c7245c138"
      },
      "source": [
        "# a estrutura while tem funcionamento parecido com o for mas com sintaxe um pouco maior\n",
        "#para um bloco executar 10x\n",
        "contador = 0\n",
        "while contador <10:\n",
        "  print(contador)\n",
        "  contador+=1"
      ],
      "execution_count": null,
      "outputs": [
        {
          "output_type": "stream",
          "text": [
            "0\n",
            "1\n",
            "2\n",
            "3\n",
            "4\n",
            "5\n",
            "6\n",
            "7\n",
            "8\n",
            "9\n"
          ],
          "name": "stdout"
        }
      ]
    },
    {
      "cell_type": "code",
      "metadata": {
        "id": "ZRPUB188JWET",
        "colab": {
          "base_uri": "https://localhost:8080/"
        },
        "outputId": "34fc14fe-07dd-4f70-9807-a3d8eb91a8d6"
      },
      "source": [
        "#mesmo código acima com for\n",
        "for a in range(10):\n",
        "  print(a)"
      ],
      "execution_count": null,
      "outputs": [
        {
          "output_type": "stream",
          "text": [
            "0\n",
            "1\n",
            "2\n",
            "3\n",
            "4\n",
            "5\n",
            "6\n",
            "7\n",
            "8\n",
            "9\n"
          ],
          "name": "stdout"
        }
      ]
    },
    {
      "cell_type": "code",
      "metadata": {
        "colab": {
          "base_uri": "https://localhost:8080/"
        },
        "id": "rZ1_nQ4kWgmS",
        "outputId": "a3c47287-12aa-4fc4-e7d1-5df5f3b1c85b"
      },
      "source": [
        "#executando loop enquanto x é menor que y\n",
        "x=10\n",
        "y=20\n",
        "while x < y:\n",
        "  x=x+3\n",
        "  y=y+1\n",
        "  print(x,y)"
      ],
      "execution_count": null,
      "outputs": [
        {
          "output_type": "stream",
          "text": [
            "13 21\n",
            "16 22\n",
            "19 23\n",
            "22 24\n",
            "25 25\n"
          ],
          "name": "stdout"
        }
      ]
    },
    {
      "cell_type": "code",
      "metadata": {
        "colab": {
          "base_uri": "https://localhost:8080/"
        },
        "id": "U2c8cK4lY81Q",
        "outputId": "7213f0f7-94f5-441f-adb4-c89010fb136e"
      },
      "source": [
        "#percorrendo uma lista com for\n",
        "lista=['oi',7,'15',22,33.5]\n",
        "for a in lista:\n",
        "  print(a)"
      ],
      "execution_count": null,
      "outputs": [
        {
          "output_type": "stream",
          "text": [
            "oi\n",
            "7\n",
            "15\n",
            "22\n",
            "33.5\n"
          ],
          "name": "stdout"
        }
      ]
    },
    {
      "cell_type": "code",
      "metadata": {
        "colab": {
          "base_uri": "https://localhost:8080/"
        },
        "id": "hmV05OH6oNuV",
        "outputId": "ec1bd0c8-22be-4056-9d4f-2a779bddce6d"
      },
      "source": [
        "#resolvendo o desafio aula anterior\n",
        "tupla=(1,2,3,4,5,6,7,8,9,10)\n",
        "for a in lista:\n",
        "  if a in tupla:\n",
        "    print(a,' tem na tupla')"
      ],
      "execution_count": null,
      "outputs": [
        {
          "output_type": "stream",
          "text": [
            "7  tem na tupla\n"
          ],
          "name": "stdout"
        }
      ]
    },
    {
      "cell_type": "code",
      "metadata": {
        "colab": {
          "base_uri": "https://localhost:8080/"
        },
        "id": "klanN3a1vbUs",
        "outputId": "9d2cdfc6-db77-4901-d6e1-a77ede627731"
      },
      "source": [
        "#é possível parar o comando for assim que encontrar o item desejado utilizando o break\n",
        "for a in lista:\n",
        "  if type(a)==int:\n",
        "    print(a,' = inteiro encontrado')\n",
        "    break"
      ],
      "execution_count": null,
      "outputs": [
        {
          "output_type": "stream",
          "text": [
            "7  = inteiro encontrado\n"
          ],
          "name": "stdout"
        }
      ]
    },
    {
      "cell_type": "code",
      "metadata": {
        "colab": {
          "base_uri": "https://localhost:8080/"
        },
        "id": "we_4P_ahv5OH",
        "outputId": "13daba91-c8a5-48e9-849b-24818c5208b2"
      },
      "source": [
        "#percorrendo a lista e printando o type de cada váriavel se estiverem nas condicionais\n",
        "for a in lista:\n",
        "  if type(a)==int:\n",
        "    print(a,'= inteiro')\n",
        "  elif type(a)==str:\n",
        "    print(a,'= string')\n",
        "  elif type(a)==float:\n",
        "    print(a,'= float')\n",
        "  else:\n",
        "    print('tipo nao listado')"
      ],
      "execution_count": null,
      "outputs": [
        {
          "output_type": "stream",
          "text": [
            "oi = string\n",
            "7 = inteiro\n",
            "15 = string\n",
            "22 = inteiro\n",
            "33.5 = float\n"
          ],
          "name": "stdout"
        }
      ]
    },
    {
      "cell_type": "code",
      "metadata": {
        "colab": {
          "base_uri": "https://localhost:8080/"
        },
        "id": "66GNesVhwYqu",
        "outputId": "465c22c4-24e9-42c2-afdb-e39d8eb88781"
      },
      "source": [
        "#criando uma lista com range até 100\n",
        "lista_2 = []\n",
        "for a in range(100):\n",
        "  lista_2.append(a)\n",
        "lista_2"
      ],
      "execution_count": null,
      "outputs": [
        {
          "output_type": "execute_result",
          "data": {
            "text/plain": [
              "[0,\n",
              " 1,\n",
              " 2,\n",
              " 3,\n",
              " 4,\n",
              " 5,\n",
              " 6,\n",
              " 7,\n",
              " 8,\n",
              " 9,\n",
              " 10,\n",
              " 11,\n",
              " 12,\n",
              " 13,\n",
              " 14,\n",
              " 15,\n",
              " 16,\n",
              " 17,\n",
              " 18,\n",
              " 19,\n",
              " 20,\n",
              " 21,\n",
              " 22,\n",
              " 23,\n",
              " 24,\n",
              " 25,\n",
              " 26,\n",
              " 27,\n",
              " 28,\n",
              " 29,\n",
              " 30,\n",
              " 31,\n",
              " 32,\n",
              " 33,\n",
              " 34,\n",
              " 35,\n",
              " 36,\n",
              " 37,\n",
              " 38,\n",
              " 39,\n",
              " 40,\n",
              " 41,\n",
              " 42,\n",
              " 43,\n",
              " 44,\n",
              " 45,\n",
              " 46,\n",
              " 47,\n",
              " 48,\n",
              " 49,\n",
              " 50,\n",
              " 51,\n",
              " 52,\n",
              " 53,\n",
              " 54,\n",
              " 55,\n",
              " 56,\n",
              " 57,\n",
              " 58,\n",
              " 59,\n",
              " 60,\n",
              " 61,\n",
              " 62,\n",
              " 63,\n",
              " 64,\n",
              " 65,\n",
              " 66,\n",
              " 67,\n",
              " 68,\n",
              " 69,\n",
              " 70,\n",
              " 71,\n",
              " 72,\n",
              " 73,\n",
              " 74,\n",
              " 75,\n",
              " 76,\n",
              " 77,\n",
              " 78,\n",
              " 79,\n",
              " 80,\n",
              " 81,\n",
              " 82,\n",
              " 83,\n",
              " 84,\n",
              " 85,\n",
              " 86,\n",
              " 87,\n",
              " 88,\n",
              " 89,\n",
              " 90,\n",
              " 91,\n",
              " 92,\n",
              " 93,\n",
              " 94,\n",
              " 95,\n",
              " 96,\n",
              " 97,\n",
              " 98,\n",
              " 99]"
            ]
          },
          "metadata": {
            "tags": []
          },
          "execution_count": 13
        }
      ]
    },
    {
      "cell_type": "markdown",
      "metadata": {
        "id": "efzU-6kDwt9N"
      },
      "source": [
        "<h1>Exercícios:<h1>"
      ]
    },
    {
      "cell_type": "markdown",
      "metadata": {
        "id": "8kJA58bvwvW9"
      },
      "source": [
        "1. Crie uma lista contendo os números pares de 0 até 1000"
      ]
    },
    {
      "cell_type": "code",
      "metadata": {
        "id": "gpCsc4SDwlQR",
        "colab": {
          "base_uri": "https://localhost:8080/"
        },
        "outputId": "d83ab0d7-7287-49cb-a452-879366b8100c"
      },
      "source": [
        "pares = []\n",
        "\n",
        "for a in range(0,101,2):\n",
        "  pares.append(a)\n",
        "  \n",
        "print(pares)\n",
        "\n"
      ],
      "execution_count": null,
      "outputs": [
        {
          "output_type": "stream",
          "name": "stdout",
          "text": [
            "[0, 2, 4, 6, 8, 10, 12, 14, 16, 18, 20, 22, 24, 26, 28, 30, 32, 34, 36, 38, 40, 42, 44, 46, 48, 50, 52, 54, 56, 58, 60, 62, 64, 66, 68, 70, 72, 74, 76, 78, 80, 82, 84, 86, 88, 90, 92, 94, 96, 98, 100]\n"
          ]
        }
      ]
    },
    {
      "cell_type": "markdown",
      "metadata": {
        "id": "zV9YHu7Ow_V5"
      },
      "source": [
        "2. Transforme cada valor da lista anterior em um string."
      ]
    },
    {
      "cell_type": "code",
      "metadata": {
        "id": "uYJWvJqexLt4",
        "colab": {
          "base_uri": "https://localhost:8080/"
        },
        "outputId": "64ad32f7-1369-4afb-c2fa-4fa48d894b0f"
      },
      "source": [
        "novos = str(pares)\n",
        "print(novos)\n",
        "type(novos)"
      ],
      "execution_count": null,
      "outputs": [
        {
          "output_type": "stream",
          "name": "stdout",
          "text": [
            "[0, 2, 4, 6, 8, 10, 12, 14, 16, 18, 20, 22, 24, 26, 28, 30, 32, 34, 36, 38, 40, 42, 44, 46, 48, 50, 52, 54, 56, 58, 60, 62, 64, 66, 68, 70, 72, 74, 76, 78, 80, 82, 84, 86, 88, 90, 92, 94, 96, 98, 100]\n"
          ]
        },
        {
          "output_type": "execute_result",
          "data": {
            "text/plain": [
              "str"
            ]
          },
          "metadata": {},
          "execution_count": 18
        }
      ]
    },
    {
      "cell_type": "markdown",
      "metadata": {
        "id": "ETPbgkY-xNE_"
      },
      "source": [
        "3. Compare os valores entre as listas e some os valores das 2 listas."
      ]
    },
    {
      "cell_type": "code",
      "metadata": {
        "id": "4JNwZoo8xiev",
        "colab": {
          "base_uri": "https://localhost:8080/"
        },
        "outputId": "1f4e4a58-0a12-4c9a-8933-cdaee1855311"
      },
      "source": [
        "\n",
        "for a in pares:\n",
        "  if a in pares and novos:\n",
        "    soma = a + a \n",
        "print (soma )"
      ],
      "execution_count": null,
      "outputs": [
        {
          "output_type": "stream",
          "name": "stdout",
          "text": [
            "200\n"
          ]
        }
      ]
    },
    {
      "cell_type": "markdown",
      "metadata": {
        "id": "mQPbVn5vxi8E"
      },
      "source": [
        "4. Crie um for para reproduzir a [sequência de Fibonacci](https://www.coc.com.br/blog/soualuno/matematica/o-que-e-a-sequencia-de-fibonacci#:~:text=A%20sequ%C3%AAncia%20de%20Fibonacci%20%C3%A9,no%20final%20do%20s%C3%A9culo%2012.&text=Desde%20que%20nenhum%20coelho%20morra,os%20n%C3%BAmeros%200%20e%201.)."
      ]
    },
    {
      "cell_type": "code",
      "metadata": {
        "id": "8uz2pmOiyQMz",
        "colab": {
          "base_uri": "https://localhost:8080/"
        },
        "outputId": "a5d5504b-eb35-41f5-d3f5-7a42e025ece6"
      },
      "source": [
        "a = 0\n",
        "b = 1\n",
        "soma = 1\n",
        "  \n",
        "for x in range(30):\n",
        "  print(a)\n",
        "  soma = b + a\n",
        "  a = b\n",
        "  b = soma"
      ],
      "execution_count": 19,
      "outputs": [
        {
          "output_type": "stream",
          "name": "stdout",
          "text": [
            "0\n",
            "1\n",
            "1\n",
            "2\n",
            "3\n",
            "5\n",
            "8\n",
            "13\n",
            "21\n",
            "34\n",
            "55\n",
            "89\n",
            "144\n",
            "233\n",
            "377\n",
            "610\n",
            "987\n",
            "1597\n",
            "2584\n",
            "4181\n",
            "6765\n",
            "10946\n",
            "17711\n",
            "28657\n",
            "46368\n",
            "75025\n",
            "121393\n",
            "196418\n",
            "317811\n",
            "514229\n"
          ]
        }
      ]
    },
    {
      "cell_type": "markdown",
      "metadata": {
        "id": "zUsVNQ-LyQzo"
      },
      "source": [
        "5. Crie um for que execute até aparecer a palavra \"parar\"."
      ]
    },
    {
      "cell_type": "code",
      "metadata": {
        "id": "1ECBRA-0yeO-",
        "colab": {
          "base_uri": "https://localhost:8080/"
        },
        "outputId": "ffcad294-c2a3-42ac-ca39-451e71090b19"
      },
      "source": [
        "palavras=['continue','ok','segue','opa,','quase','parar',':)']\n",
        "\n",
        "for x in palavras:\n",
        "  print(x)\n",
        "  if x =='parar':\n",
        "    break"
      ],
      "execution_count": 30,
      "outputs": [
        {
          "output_type": "stream",
          "name": "stdout",
          "text": [
            "continue\n",
            "ok\n",
            "segue\n",
            "opa,\n",
            "quase\n",
            "parar\n"
          ]
        }
      ]
    },
    {
      "cell_type": "markdown",
      "metadata": {
        "id": "cnlbkP5KWhI8"
      },
      "source": [
        "<h1> Loop 2</h1>\n",
        "\n",
        "Nessa aula vamos aprender utilizar o Loop com algumas funções novas.\n",
        "\n",
        "*   <b>Enumerate:</b> função para enumerar cada iteração.\n",
        "*   <b>Zip:</b> Agrupa duas ou mais iteções simultâneas.\n",
        "\n",
        "\n",
        "\n",
        "<h2> Exemplos:</h2>\n"
      ]
    },
    {
      "cell_type": "code",
      "metadata": {
        "colab": {
          "base_uri": "https://localhost:8080/"
        },
        "id": "zJZpxNevU8zY",
        "outputId": "269d2d3c-e7d2-43ff-de87-afe46e459ebe"
      },
      "source": [
        "#criando uma lista e percorrendo ela no for com enumerate printando a e b\n",
        "lista = ['oi',5,'tchau',10]\n",
        "for a,b in enumerate(lista):\n",
        "  print(a,b)"
      ],
      "execution_count": null,
      "outputs": [
        {
          "output_type": "stream",
          "text": [
            "0 oi\n",
            "1 5\n",
            "2 tchau\n",
            "3 10\n"
          ],
          "name": "stdout"
        }
      ]
    },
    {
      "cell_type": "code",
      "metadata": {
        "colab": {
          "base_uri": "https://localhost:8080/"
        },
        "id": "BJ4pj88NJyNU",
        "outputId": "9f6a7528-472d-4f19-9f31-39671629029c"
      },
      "source": [
        "#criando uma tupla e percorrendo ela e a lista com zip printando os 2 valores\n",
        "tupla = ('oi',5,'tchau',20)\n",
        "\n",
        "for a,b in zip(lista, tupla):\n",
        "  print(a,b)"
      ],
      "execution_count": null,
      "outputs": [
        {
          "output_type": "stream",
          "text": [
            "oi oi\n",
            "5 5\n",
            "tchau tchau\n",
            "10 20\n"
          ],
          "name": "stdout"
        }
      ]
    },
    {
      "cell_type": "code",
      "metadata": {
        "colab": {
          "base_uri": "https://localhost:8080/"
        },
        "id": "K18Ey2010DE6",
        "outputId": "112fc915-ccea-4c65-b04b-2d138bf9ed81"
      },
      "source": [
        "#é possível começar o range de outro ponto que não o 0\n",
        "for a in range(2,10):\n",
        "  print(a)"
      ],
      "execution_count": null,
      "outputs": [
        {
          "output_type": "stream",
          "text": [
            "2\n",
            "3\n",
            "4\n",
            "5\n",
            "6\n",
            "7\n",
            "8\n",
            "9\n"
          ],
          "name": "stdout"
        }
      ]
    },
    {
      "cell_type": "code",
      "metadata": {
        "colab": {
          "base_uri": "https://localhost:8080/"
        },
        "id": "RYwe2ajG6Ewv",
        "outputId": "3c2a7b75-cf12-46e3-d181-159686e46f8f"
      },
      "source": [
        "#e também ir somando mais de +1 por repetição do for\n",
        "for a in range(3,21,3):\n",
        "  print(a)"
      ],
      "execution_count": null,
      "outputs": [
        {
          "output_type": "stream",
          "text": [
            "3\n",
            "6\n",
            "9\n",
            "12\n",
            "15\n",
            "18\n"
          ],
          "name": "stdout"
        }
      ]
    },
    {
      "cell_type": "code",
      "metadata": {
        "colab": {
          "base_uri": "https://localhost:8080/"
        },
        "id": "439W-4NN6RKJ",
        "outputId": "3efbd1ed-9dc7-4d86-b615-d393118a2452"
      },
      "source": [
        "#podemos utilizar o else no for diretamente sem o if\n",
        "for a in range(5):\n",
        "  print(a)\n",
        "else:\n",
        "  print('próximo número passou do range')"
      ],
      "execution_count": null,
      "outputs": [
        {
          "output_type": "stream",
          "text": [
            "0\n",
            "1\n",
            "2\n",
            "3\n",
            "4\n",
            "próximo número passou do range\n"
          ],
          "name": "stdout"
        }
      ]
    },
    {
      "cell_type": "code",
      "metadata": {
        "colab": {
          "base_uri": "https://localhost:8080/"
        },
        "id": "dtTRuLOW6iWA",
        "outputId": "1f5d1cd5-03f4-46db-92c6-1ee59e84c03f"
      },
      "source": [
        "#percorrendo uma string com o for\n",
        "texto = 'vou fazer todos os exercícios'\n",
        "for a in texto:\n",
        "  print(a)"
      ],
      "execution_count": null,
      "outputs": [
        {
          "output_type": "stream",
          "text": [
            "v\n",
            "o\n",
            "u\n",
            " \n",
            "f\n",
            "a\n",
            "z\n",
            "e\n",
            "r\n",
            " \n",
            "t\n",
            "o\n",
            "d\n",
            "o\n",
            "s\n",
            " \n",
            "o\n",
            "s\n",
            " \n",
            "e\n",
            "x\n",
            "e\n",
            "r\n",
            "c\n",
            "í\n",
            "c\n",
            "i\n",
            "o\n",
            "s\n"
          ],
          "name": "stdout"
        }
      ]
    },
    {
      "cell_type": "code",
      "metadata": {
        "colab": {
          "base_uri": "https://localhost:8080/"
        },
        "id": "PsU7Ej_d6u4X",
        "outputId": "369a328d-c371-442a-d51a-302a0ac8620a"
      },
      "source": [
        "#atribuindo o split da string a uma nova variável e printando o resultado \n",
        "texto_2=texto.split()\n",
        "texto_2"
      ],
      "execution_count": null,
      "outputs": [
        {
          "output_type": "execute_result",
          "data": {
            "text/plain": [
              "['vou', 'fazer', 'todos', 'os', 'exercícios']"
            ]
          },
          "metadata": {
            "tags": []
          },
          "execution_count": 24
        }
      ]
    },
    {
      "cell_type": "code",
      "metadata": {
        "colab": {
          "base_uri": "https://localhost:8080/"
        },
        "id": "sDAD3imp7EE6",
        "outputId": "b134ad7c-f274-4de9-8a31-6de21f8ce16f"
      },
      "source": [
        "#deixando a primeira letra de cada palavra maiúscula\n",
        "for a in texto_2:\n",
        "  print(a[0].upper()+a[1:])"
      ],
      "execution_count": null,
      "outputs": [
        {
          "output_type": "stream",
          "text": [
            "Vou\n",
            "Fazer\n",
            "Todos\n",
            "Os\n",
            "Exercícios\n"
          ],
          "name": "stdout"
        }
      ]
    },
    {
      "cell_type": "code",
      "metadata": {
        "colab": {
          "base_uri": "https://localhost:8080/"
        },
        "id": "hMV6i3hK8NTz",
        "outputId": "5ad932eb-b162-4c03-866b-fc1b6788e9b4"
      },
      "source": [
        "#for aninhado percorrendo a lista\n",
        "for a in texto_2:\n",
        "  for b in texto_2:\n",
        "    print(a,b)"
      ],
      "execution_count": null,
      "outputs": [
        {
          "output_type": "stream",
          "text": [
            "vou vou\n",
            "vou fazer\n",
            "vou todos\n",
            "vou os\n",
            "vou exercícios\n",
            "fazer vou\n",
            "fazer fazer\n",
            "fazer todos\n",
            "fazer os\n",
            "fazer exercícios\n",
            "todos vou\n",
            "todos fazer\n",
            "todos todos\n",
            "todos os\n",
            "todos exercícios\n",
            "os vou\n",
            "os fazer\n",
            "os todos\n",
            "os os\n",
            "os exercícios\n",
            "exercícios vou\n",
            "exercícios fazer\n",
            "exercícios todos\n",
            "exercícios os\n",
            "exercícios exercícios\n"
          ],
          "name": "stdout"
        }
      ]
    },
    {
      "cell_type": "code",
      "metadata": {
        "colab": {
          "base_uri": "https://localhost:8080/"
        },
        "id": "ZWI8wuey81X4",
        "outputId": "babf049b-7e2f-47b2-c86f-ca18d5aa4653"
      },
      "source": [
        "#for aninhado printando uma tabuada\n",
        "for a in range(10):\n",
        "  for b in range(10):\n",
        "    print(a,' x ',b,' = ',a*b)"
      ],
      "execution_count": null,
      "outputs": [
        {
          "output_type": "stream",
          "text": [
            "0  x  0  =  0\n",
            "0  x  1  =  0\n",
            "0  x  2  =  0\n",
            "0  x  3  =  0\n",
            "0  x  4  =  0\n",
            "0  x  5  =  0\n",
            "0  x  6  =  0\n",
            "0  x  7  =  0\n",
            "0  x  8  =  0\n",
            "0  x  9  =  0\n",
            "1  x  0  =  0\n",
            "1  x  1  =  1\n",
            "1  x  2  =  2\n",
            "1  x  3  =  3\n",
            "1  x  4  =  4\n",
            "1  x  5  =  5\n",
            "1  x  6  =  6\n",
            "1  x  7  =  7\n",
            "1  x  8  =  8\n",
            "1  x  9  =  9\n",
            "2  x  0  =  0\n",
            "2  x  1  =  2\n",
            "2  x  2  =  4\n",
            "2  x  3  =  6\n",
            "2  x  4  =  8\n",
            "2  x  5  =  10\n",
            "2  x  6  =  12\n",
            "2  x  7  =  14\n",
            "2  x  8  =  16\n",
            "2  x  9  =  18\n",
            "3  x  0  =  0\n",
            "3  x  1  =  3\n",
            "3  x  2  =  6\n",
            "3  x  3  =  9\n",
            "3  x  4  =  12\n",
            "3  x  5  =  15\n",
            "3  x  6  =  18\n",
            "3  x  7  =  21\n",
            "3  x  8  =  24\n",
            "3  x  9  =  27\n",
            "4  x  0  =  0\n",
            "4  x  1  =  4\n",
            "4  x  2  =  8\n",
            "4  x  3  =  12\n",
            "4  x  4  =  16\n",
            "4  x  5  =  20\n",
            "4  x  6  =  24\n",
            "4  x  7  =  28\n",
            "4  x  8  =  32\n",
            "4  x  9  =  36\n",
            "5  x  0  =  0\n",
            "5  x  1  =  5\n",
            "5  x  2  =  10\n",
            "5  x  3  =  15\n",
            "5  x  4  =  20\n",
            "5  x  5  =  25\n",
            "5  x  6  =  30\n",
            "5  x  7  =  35\n",
            "5  x  8  =  40\n",
            "5  x  9  =  45\n",
            "6  x  0  =  0\n",
            "6  x  1  =  6\n",
            "6  x  2  =  12\n",
            "6  x  3  =  18\n",
            "6  x  4  =  24\n",
            "6  x  5  =  30\n",
            "6  x  6  =  36\n",
            "6  x  7  =  42\n",
            "6  x  8  =  48\n",
            "6  x  9  =  54\n",
            "7  x  0  =  0\n",
            "7  x  1  =  7\n",
            "7  x  2  =  14\n",
            "7  x  3  =  21\n",
            "7  x  4  =  28\n",
            "7  x  5  =  35\n",
            "7  x  6  =  42\n",
            "7  x  7  =  49\n",
            "7  x  8  =  56\n",
            "7  x  9  =  63\n",
            "8  x  0  =  0\n",
            "8  x  1  =  8\n",
            "8  x  2  =  16\n",
            "8  x  3  =  24\n",
            "8  x  4  =  32\n",
            "8  x  5  =  40\n",
            "8  x  6  =  48\n",
            "8  x  7  =  56\n",
            "8  x  8  =  64\n",
            "8  x  9  =  72\n",
            "9  x  0  =  0\n",
            "9  x  1  =  9\n",
            "9  x  2  =  18\n",
            "9  x  3  =  27\n",
            "9  x  4  =  36\n",
            "9  x  5  =  45\n",
            "9  x  6  =  54\n",
            "9  x  7  =  63\n",
            "9  x  8  =  72\n",
            "9  x  9  =  81\n"
          ],
          "name": "stdout"
        }
      ]
    },
    {
      "cell_type": "markdown",
      "metadata": {
        "id": "VeIo9XMh9Zrg"
      },
      "source": [
        "<h1>Exercícios:<h1>"
      ]
    },
    {
      "cell_type": "markdown",
      "metadata": {
        "id": "_RLcMJ729a6t"
      },
      "source": [
        "1. Crie um Loop que percorra uma string e coloque a posição de cada caracter contidaa nela."
      ]
    },
    {
      "cell_type": "code",
      "metadata": {
        "id": "NSNcIr2K9Tzl",
        "colab": {
          "base_uri": "https://localhost:8080/"
        },
        "outputId": "d9c0d7bf-a23c-463c-d936-511f5977d223"
      },
      "source": [
        "nome = 'Alisson' ' Fernandes'\n",
        "\n",
        "for a in enumerate(nome):\n",
        "  print(a)"
      ],
      "execution_count": 37,
      "outputs": [
        {
          "output_type": "stream",
          "name": "stdout",
          "text": [
            "(0, 'A')\n",
            "(1, 'l')\n",
            "(2, 'i')\n",
            "(3, 's')\n",
            "(4, 's')\n",
            "(5, 'o')\n",
            "(6, 'n')\n",
            "(7, ' ')\n",
            "(8, 'F')\n",
            "(9, 'e')\n",
            "(10, 'r')\n",
            "(11, 'n')\n",
            "(12, 'a')\n",
            "(13, 'n')\n",
            "(14, 'd')\n",
            "(15, 'e')\n",
            "(16, 's')\n"
          ]
        }
      ]
    },
    {
      "cell_type": "markdown",
      "metadata": {
        "id": "88Fyyj3S9nRI"
      },
      "source": [
        "2. Refaça o exercício 1 mas dessa vez pulando os espaços."
      ]
    },
    {
      "cell_type": "code",
      "metadata": {
        "id": "I3JEYT-G9zRU"
      },
      "source": [
        ""
      ],
      "execution_count": null,
      "outputs": []
    },
    {
      "cell_type": "markdown",
      "metadata": {
        "id": "7GOXLszK94Zf"
      },
      "source": [
        "3. crie duas listas e percorra as duas no mesmo for, se elas tiverem tamanhos diferentes descreva o que acontece."
      ]
    },
    {
      "cell_type": "code",
      "metadata": {
        "id": "jWwCNIxK93KW",
        "colab": {
          "base_uri": "https://localhost:8080/"
        },
        "outputId": "8ce53d55-521f-4d30-cb99-aa0089f00f39"
      },
      "source": [
        "a = [0,1,33,55,44,32,15,21,664,16]\n",
        "b = [0,1,33,55,44,32,15,21,664,16,34,34,44]\n",
        "\n",
        "for x in a:\n",
        "  for y in b:\n",
        "    print(a,b)\n",
        "\n",
        "# Quando os tamanhos da lista são diferentes o for printa o resultado percorrendo a maior lista"
      ],
      "execution_count": 41,
      "outputs": [
        {
          "output_type": "stream",
          "name": "stdout",
          "text": [
            "[0, 1, 33, 55, 44, 32, 15, 21, 664, 16] [0, 1, 33, 55, 44, 32, 15, 21, 664, 16, 34, 34, 44]\n",
            "[0, 1, 33, 55, 44, 32, 15, 21, 664, 16] [0, 1, 33, 55, 44, 32, 15, 21, 664, 16, 34, 34, 44]\n",
            "[0, 1, 33, 55, 44, 32, 15, 21, 664, 16] [0, 1, 33, 55, 44, 32, 15, 21, 664, 16, 34, 34, 44]\n",
            "[0, 1, 33, 55, 44, 32, 15, 21, 664, 16] [0, 1, 33, 55, 44, 32, 15, 21, 664, 16, 34, 34, 44]\n",
            "[0, 1, 33, 55, 44, 32, 15, 21, 664, 16] [0, 1, 33, 55, 44, 32, 15, 21, 664, 16, 34, 34, 44]\n",
            "[0, 1, 33, 55, 44, 32, 15, 21, 664, 16] [0, 1, 33, 55, 44, 32, 15, 21, 664, 16, 34, 34, 44]\n",
            "[0, 1, 33, 55, 44, 32, 15, 21, 664, 16] [0, 1, 33, 55, 44, 32, 15, 21, 664, 16, 34, 34, 44]\n",
            "[0, 1, 33, 55, 44, 32, 15, 21, 664, 16] [0, 1, 33, 55, 44, 32, 15, 21, 664, 16, 34, 34, 44]\n",
            "[0, 1, 33, 55, 44, 32, 15, 21, 664, 16] [0, 1, 33, 55, 44, 32, 15, 21, 664, 16, 34, 34, 44]\n",
            "[0, 1, 33, 55, 44, 32, 15, 21, 664, 16] [0, 1, 33, 55, 44, 32, 15, 21, 664, 16, 34, 34, 44]\n",
            "[0, 1, 33, 55, 44, 32, 15, 21, 664, 16] [0, 1, 33, 55, 44, 32, 15, 21, 664, 16, 34, 34, 44]\n",
            "[0, 1, 33, 55, 44, 32, 15, 21, 664, 16] [0, 1, 33, 55, 44, 32, 15, 21, 664, 16, 34, 34, 44]\n",
            "[0, 1, 33, 55, 44, 32, 15, 21, 664, 16] [0, 1, 33, 55, 44, 32, 15, 21, 664, 16, 34, 34, 44]\n",
            "[0, 1, 33, 55, 44, 32, 15, 21, 664, 16] [0, 1, 33, 55, 44, 32, 15, 21, 664, 16, 34, 34, 44]\n",
            "[0, 1, 33, 55, 44, 32, 15, 21, 664, 16] [0, 1, 33, 55, 44, 32, 15, 21, 664, 16, 34, 34, 44]\n",
            "[0, 1, 33, 55, 44, 32, 15, 21, 664, 16] [0, 1, 33, 55, 44, 32, 15, 21, 664, 16, 34, 34, 44]\n",
            "[0, 1, 33, 55, 44, 32, 15, 21, 664, 16] [0, 1, 33, 55, 44, 32, 15, 21, 664, 16, 34, 34, 44]\n",
            "[0, 1, 33, 55, 44, 32, 15, 21, 664, 16] [0, 1, 33, 55, 44, 32, 15, 21, 664, 16, 34, 34, 44]\n",
            "[0, 1, 33, 55, 44, 32, 15, 21, 664, 16] [0, 1, 33, 55, 44, 32, 15, 21, 664, 16, 34, 34, 44]\n",
            "[0, 1, 33, 55, 44, 32, 15, 21, 664, 16] [0, 1, 33, 55, 44, 32, 15, 21, 664, 16, 34, 34, 44]\n",
            "[0, 1, 33, 55, 44, 32, 15, 21, 664, 16] [0, 1, 33, 55, 44, 32, 15, 21, 664, 16, 34, 34, 44]\n",
            "[0, 1, 33, 55, 44, 32, 15, 21, 664, 16] [0, 1, 33, 55, 44, 32, 15, 21, 664, 16, 34, 34, 44]\n",
            "[0, 1, 33, 55, 44, 32, 15, 21, 664, 16] [0, 1, 33, 55, 44, 32, 15, 21, 664, 16, 34, 34, 44]\n",
            "[0, 1, 33, 55, 44, 32, 15, 21, 664, 16] [0, 1, 33, 55, 44, 32, 15, 21, 664, 16, 34, 34, 44]\n",
            "[0, 1, 33, 55, 44, 32, 15, 21, 664, 16] [0, 1, 33, 55, 44, 32, 15, 21, 664, 16, 34, 34, 44]\n",
            "[0, 1, 33, 55, 44, 32, 15, 21, 664, 16] [0, 1, 33, 55, 44, 32, 15, 21, 664, 16, 34, 34, 44]\n",
            "[0, 1, 33, 55, 44, 32, 15, 21, 664, 16] [0, 1, 33, 55, 44, 32, 15, 21, 664, 16, 34, 34, 44]\n",
            "[0, 1, 33, 55, 44, 32, 15, 21, 664, 16] [0, 1, 33, 55, 44, 32, 15, 21, 664, 16, 34, 34, 44]\n",
            "[0, 1, 33, 55, 44, 32, 15, 21, 664, 16] [0, 1, 33, 55, 44, 32, 15, 21, 664, 16, 34, 34, 44]\n",
            "[0, 1, 33, 55, 44, 32, 15, 21, 664, 16] [0, 1, 33, 55, 44, 32, 15, 21, 664, 16, 34, 34, 44]\n",
            "[0, 1, 33, 55, 44, 32, 15, 21, 664, 16] [0, 1, 33, 55, 44, 32, 15, 21, 664, 16, 34, 34, 44]\n",
            "[0, 1, 33, 55, 44, 32, 15, 21, 664, 16] [0, 1, 33, 55, 44, 32, 15, 21, 664, 16, 34, 34, 44]\n",
            "[0, 1, 33, 55, 44, 32, 15, 21, 664, 16] [0, 1, 33, 55, 44, 32, 15, 21, 664, 16, 34, 34, 44]\n",
            "[0, 1, 33, 55, 44, 32, 15, 21, 664, 16] [0, 1, 33, 55, 44, 32, 15, 21, 664, 16, 34, 34, 44]\n",
            "[0, 1, 33, 55, 44, 32, 15, 21, 664, 16] [0, 1, 33, 55, 44, 32, 15, 21, 664, 16, 34, 34, 44]\n",
            "[0, 1, 33, 55, 44, 32, 15, 21, 664, 16] [0, 1, 33, 55, 44, 32, 15, 21, 664, 16, 34, 34, 44]\n",
            "[0, 1, 33, 55, 44, 32, 15, 21, 664, 16] [0, 1, 33, 55, 44, 32, 15, 21, 664, 16, 34, 34, 44]\n",
            "[0, 1, 33, 55, 44, 32, 15, 21, 664, 16] [0, 1, 33, 55, 44, 32, 15, 21, 664, 16, 34, 34, 44]\n",
            "[0, 1, 33, 55, 44, 32, 15, 21, 664, 16] [0, 1, 33, 55, 44, 32, 15, 21, 664, 16, 34, 34, 44]\n",
            "[0, 1, 33, 55, 44, 32, 15, 21, 664, 16] [0, 1, 33, 55, 44, 32, 15, 21, 664, 16, 34, 34, 44]\n",
            "[0, 1, 33, 55, 44, 32, 15, 21, 664, 16] [0, 1, 33, 55, 44, 32, 15, 21, 664, 16, 34, 34, 44]\n",
            "[0, 1, 33, 55, 44, 32, 15, 21, 664, 16] [0, 1, 33, 55, 44, 32, 15, 21, 664, 16, 34, 34, 44]\n",
            "[0, 1, 33, 55, 44, 32, 15, 21, 664, 16] [0, 1, 33, 55, 44, 32, 15, 21, 664, 16, 34, 34, 44]\n",
            "[0, 1, 33, 55, 44, 32, 15, 21, 664, 16] [0, 1, 33, 55, 44, 32, 15, 21, 664, 16, 34, 34, 44]\n",
            "[0, 1, 33, 55, 44, 32, 15, 21, 664, 16] [0, 1, 33, 55, 44, 32, 15, 21, 664, 16, 34, 34, 44]\n",
            "[0, 1, 33, 55, 44, 32, 15, 21, 664, 16] [0, 1, 33, 55, 44, 32, 15, 21, 664, 16, 34, 34, 44]\n",
            "[0, 1, 33, 55, 44, 32, 15, 21, 664, 16] [0, 1, 33, 55, 44, 32, 15, 21, 664, 16, 34, 34, 44]\n",
            "[0, 1, 33, 55, 44, 32, 15, 21, 664, 16] [0, 1, 33, 55, 44, 32, 15, 21, 664, 16, 34, 34, 44]\n",
            "[0, 1, 33, 55, 44, 32, 15, 21, 664, 16] [0, 1, 33, 55, 44, 32, 15, 21, 664, 16, 34, 34, 44]\n",
            "[0, 1, 33, 55, 44, 32, 15, 21, 664, 16] [0, 1, 33, 55, 44, 32, 15, 21, 664, 16, 34, 34, 44]\n",
            "[0, 1, 33, 55, 44, 32, 15, 21, 664, 16] [0, 1, 33, 55, 44, 32, 15, 21, 664, 16, 34, 34, 44]\n",
            "[0, 1, 33, 55, 44, 32, 15, 21, 664, 16] [0, 1, 33, 55, 44, 32, 15, 21, 664, 16, 34, 34, 44]\n",
            "[0, 1, 33, 55, 44, 32, 15, 21, 664, 16] [0, 1, 33, 55, 44, 32, 15, 21, 664, 16, 34, 34, 44]\n",
            "[0, 1, 33, 55, 44, 32, 15, 21, 664, 16] [0, 1, 33, 55, 44, 32, 15, 21, 664, 16, 34, 34, 44]\n",
            "[0, 1, 33, 55, 44, 32, 15, 21, 664, 16] [0, 1, 33, 55, 44, 32, 15, 21, 664, 16, 34, 34, 44]\n",
            "[0, 1, 33, 55, 44, 32, 15, 21, 664, 16] [0, 1, 33, 55, 44, 32, 15, 21, 664, 16, 34, 34, 44]\n",
            "[0, 1, 33, 55, 44, 32, 15, 21, 664, 16] [0, 1, 33, 55, 44, 32, 15, 21, 664, 16, 34, 34, 44]\n",
            "[0, 1, 33, 55, 44, 32, 15, 21, 664, 16] [0, 1, 33, 55, 44, 32, 15, 21, 664, 16, 34, 34, 44]\n",
            "[0, 1, 33, 55, 44, 32, 15, 21, 664, 16] [0, 1, 33, 55, 44, 32, 15, 21, 664, 16, 34, 34, 44]\n",
            "[0, 1, 33, 55, 44, 32, 15, 21, 664, 16] [0, 1, 33, 55, 44, 32, 15, 21, 664, 16, 34, 34, 44]\n",
            "[0, 1, 33, 55, 44, 32, 15, 21, 664, 16] [0, 1, 33, 55, 44, 32, 15, 21, 664, 16, 34, 34, 44]\n",
            "[0, 1, 33, 55, 44, 32, 15, 21, 664, 16] [0, 1, 33, 55, 44, 32, 15, 21, 664, 16, 34, 34, 44]\n",
            "[0, 1, 33, 55, 44, 32, 15, 21, 664, 16] [0, 1, 33, 55, 44, 32, 15, 21, 664, 16, 34, 34, 44]\n",
            "[0, 1, 33, 55, 44, 32, 15, 21, 664, 16] [0, 1, 33, 55, 44, 32, 15, 21, 664, 16, 34, 34, 44]\n",
            "[0, 1, 33, 55, 44, 32, 15, 21, 664, 16] [0, 1, 33, 55, 44, 32, 15, 21, 664, 16, 34, 34, 44]\n",
            "[0, 1, 33, 55, 44, 32, 15, 21, 664, 16] [0, 1, 33, 55, 44, 32, 15, 21, 664, 16, 34, 34, 44]\n",
            "[0, 1, 33, 55, 44, 32, 15, 21, 664, 16] [0, 1, 33, 55, 44, 32, 15, 21, 664, 16, 34, 34, 44]\n",
            "[0, 1, 33, 55, 44, 32, 15, 21, 664, 16] [0, 1, 33, 55, 44, 32, 15, 21, 664, 16, 34, 34, 44]\n",
            "[0, 1, 33, 55, 44, 32, 15, 21, 664, 16] [0, 1, 33, 55, 44, 32, 15, 21, 664, 16, 34, 34, 44]\n",
            "[0, 1, 33, 55, 44, 32, 15, 21, 664, 16] [0, 1, 33, 55, 44, 32, 15, 21, 664, 16, 34, 34, 44]\n",
            "[0, 1, 33, 55, 44, 32, 15, 21, 664, 16] [0, 1, 33, 55, 44, 32, 15, 21, 664, 16, 34, 34, 44]\n",
            "[0, 1, 33, 55, 44, 32, 15, 21, 664, 16] [0, 1, 33, 55, 44, 32, 15, 21, 664, 16, 34, 34, 44]\n",
            "[0, 1, 33, 55, 44, 32, 15, 21, 664, 16] [0, 1, 33, 55, 44, 32, 15, 21, 664, 16, 34, 34, 44]\n",
            "[0, 1, 33, 55, 44, 32, 15, 21, 664, 16] [0, 1, 33, 55, 44, 32, 15, 21, 664, 16, 34, 34, 44]\n",
            "[0, 1, 33, 55, 44, 32, 15, 21, 664, 16] [0, 1, 33, 55, 44, 32, 15, 21, 664, 16, 34, 34, 44]\n",
            "[0, 1, 33, 55, 44, 32, 15, 21, 664, 16] [0, 1, 33, 55, 44, 32, 15, 21, 664, 16, 34, 34, 44]\n",
            "[0, 1, 33, 55, 44, 32, 15, 21, 664, 16] [0, 1, 33, 55, 44, 32, 15, 21, 664, 16, 34, 34, 44]\n",
            "[0, 1, 33, 55, 44, 32, 15, 21, 664, 16] [0, 1, 33, 55, 44, 32, 15, 21, 664, 16, 34, 34, 44]\n",
            "[0, 1, 33, 55, 44, 32, 15, 21, 664, 16] [0, 1, 33, 55, 44, 32, 15, 21, 664, 16, 34, 34, 44]\n",
            "[0, 1, 33, 55, 44, 32, 15, 21, 664, 16] [0, 1, 33, 55, 44, 32, 15, 21, 664, 16, 34, 34, 44]\n",
            "[0, 1, 33, 55, 44, 32, 15, 21, 664, 16] [0, 1, 33, 55, 44, 32, 15, 21, 664, 16, 34, 34, 44]\n",
            "[0, 1, 33, 55, 44, 32, 15, 21, 664, 16] [0, 1, 33, 55, 44, 32, 15, 21, 664, 16, 34, 34, 44]\n",
            "[0, 1, 33, 55, 44, 32, 15, 21, 664, 16] [0, 1, 33, 55, 44, 32, 15, 21, 664, 16, 34, 34, 44]\n",
            "[0, 1, 33, 55, 44, 32, 15, 21, 664, 16] [0, 1, 33, 55, 44, 32, 15, 21, 664, 16, 34, 34, 44]\n",
            "[0, 1, 33, 55, 44, 32, 15, 21, 664, 16] [0, 1, 33, 55, 44, 32, 15, 21, 664, 16, 34, 34, 44]\n",
            "[0, 1, 33, 55, 44, 32, 15, 21, 664, 16] [0, 1, 33, 55, 44, 32, 15, 21, 664, 16, 34, 34, 44]\n",
            "[0, 1, 33, 55, 44, 32, 15, 21, 664, 16] [0, 1, 33, 55, 44, 32, 15, 21, 664, 16, 34, 34, 44]\n",
            "[0, 1, 33, 55, 44, 32, 15, 21, 664, 16] [0, 1, 33, 55, 44, 32, 15, 21, 664, 16, 34, 34, 44]\n",
            "[0, 1, 33, 55, 44, 32, 15, 21, 664, 16] [0, 1, 33, 55, 44, 32, 15, 21, 664, 16, 34, 34, 44]\n",
            "[0, 1, 33, 55, 44, 32, 15, 21, 664, 16] [0, 1, 33, 55, 44, 32, 15, 21, 664, 16, 34, 34, 44]\n",
            "[0, 1, 33, 55, 44, 32, 15, 21, 664, 16] [0, 1, 33, 55, 44, 32, 15, 21, 664, 16, 34, 34, 44]\n",
            "[0, 1, 33, 55, 44, 32, 15, 21, 664, 16] [0, 1, 33, 55, 44, 32, 15, 21, 664, 16, 34, 34, 44]\n",
            "[0, 1, 33, 55, 44, 32, 15, 21, 664, 16] [0, 1, 33, 55, 44, 32, 15, 21, 664, 16, 34, 34, 44]\n",
            "[0, 1, 33, 55, 44, 32, 15, 21, 664, 16] [0, 1, 33, 55, 44, 32, 15, 21, 664, 16, 34, 34, 44]\n",
            "[0, 1, 33, 55, 44, 32, 15, 21, 664, 16] [0, 1, 33, 55, 44, 32, 15, 21, 664, 16, 34, 34, 44]\n",
            "[0, 1, 33, 55, 44, 32, 15, 21, 664, 16] [0, 1, 33, 55, 44, 32, 15, 21, 664, 16, 34, 34, 44]\n",
            "[0, 1, 33, 55, 44, 32, 15, 21, 664, 16] [0, 1, 33, 55, 44, 32, 15, 21, 664, 16, 34, 34, 44]\n",
            "[0, 1, 33, 55, 44, 32, 15, 21, 664, 16] [0, 1, 33, 55, 44, 32, 15, 21, 664, 16, 34, 34, 44]\n",
            "[0, 1, 33, 55, 44, 32, 15, 21, 664, 16] [0, 1, 33, 55, 44, 32, 15, 21, 664, 16, 34, 34, 44]\n",
            "[0, 1, 33, 55, 44, 32, 15, 21, 664, 16] [0, 1, 33, 55, 44, 32, 15, 21, 664, 16, 34, 34, 44]\n",
            "[0, 1, 33, 55, 44, 32, 15, 21, 664, 16] [0, 1, 33, 55, 44, 32, 15, 21, 664, 16, 34, 34, 44]\n",
            "[0, 1, 33, 55, 44, 32, 15, 21, 664, 16] [0, 1, 33, 55, 44, 32, 15, 21, 664, 16, 34, 34, 44]\n",
            "[0, 1, 33, 55, 44, 32, 15, 21, 664, 16] [0, 1, 33, 55, 44, 32, 15, 21, 664, 16, 34, 34, 44]\n",
            "[0, 1, 33, 55, 44, 32, 15, 21, 664, 16] [0, 1, 33, 55, 44, 32, 15, 21, 664, 16, 34, 34, 44]\n",
            "[0, 1, 33, 55, 44, 32, 15, 21, 664, 16] [0, 1, 33, 55, 44, 32, 15, 21, 664, 16, 34, 34, 44]\n",
            "[0, 1, 33, 55, 44, 32, 15, 21, 664, 16] [0, 1, 33, 55, 44, 32, 15, 21, 664, 16, 34, 34, 44]\n",
            "[0, 1, 33, 55, 44, 32, 15, 21, 664, 16] [0, 1, 33, 55, 44, 32, 15, 21, 664, 16, 34, 34, 44]\n",
            "[0, 1, 33, 55, 44, 32, 15, 21, 664, 16] [0, 1, 33, 55, 44, 32, 15, 21, 664, 16, 34, 34, 44]\n",
            "[0, 1, 33, 55, 44, 32, 15, 21, 664, 16] [0, 1, 33, 55, 44, 32, 15, 21, 664, 16, 34, 34, 44]\n",
            "[0, 1, 33, 55, 44, 32, 15, 21, 664, 16] [0, 1, 33, 55, 44, 32, 15, 21, 664, 16, 34, 34, 44]\n",
            "[0, 1, 33, 55, 44, 32, 15, 21, 664, 16] [0, 1, 33, 55, 44, 32, 15, 21, 664, 16, 34, 34, 44]\n",
            "[0, 1, 33, 55, 44, 32, 15, 21, 664, 16] [0, 1, 33, 55, 44, 32, 15, 21, 664, 16, 34, 34, 44]\n",
            "[0, 1, 33, 55, 44, 32, 15, 21, 664, 16] [0, 1, 33, 55, 44, 32, 15, 21, 664, 16, 34, 34, 44]\n",
            "[0, 1, 33, 55, 44, 32, 15, 21, 664, 16] [0, 1, 33, 55, 44, 32, 15, 21, 664, 16, 34, 34, 44]\n",
            "[0, 1, 33, 55, 44, 32, 15, 21, 664, 16] [0, 1, 33, 55, 44, 32, 15, 21, 664, 16, 34, 34, 44]\n",
            "[0, 1, 33, 55, 44, 32, 15, 21, 664, 16] [0, 1, 33, 55, 44, 32, 15, 21, 664, 16, 34, 34, 44]\n",
            "[0, 1, 33, 55, 44, 32, 15, 21, 664, 16] [0, 1, 33, 55, 44, 32, 15, 21, 664, 16, 34, 34, 44]\n",
            "[0, 1, 33, 55, 44, 32, 15, 21, 664, 16] [0, 1, 33, 55, 44, 32, 15, 21, 664, 16, 34, 34, 44]\n",
            "[0, 1, 33, 55, 44, 32, 15, 21, 664, 16] [0, 1, 33, 55, 44, 32, 15, 21, 664, 16, 34, 34, 44]\n",
            "[0, 1, 33, 55, 44, 32, 15, 21, 664, 16] [0, 1, 33, 55, 44, 32, 15, 21, 664, 16, 34, 34, 44]\n",
            "[0, 1, 33, 55, 44, 32, 15, 21, 664, 16] [0, 1, 33, 55, 44, 32, 15, 21, 664, 16, 34, 34, 44]\n",
            "[0, 1, 33, 55, 44, 32, 15, 21, 664, 16] [0, 1, 33, 55, 44, 32, 15, 21, 664, 16, 34, 34, 44]\n",
            "[0, 1, 33, 55, 44, 32, 15, 21, 664, 16] [0, 1, 33, 55, 44, 32, 15, 21, 664, 16, 34, 34, 44]\n",
            "[0, 1, 33, 55, 44, 32, 15, 21, 664, 16] [0, 1, 33, 55, 44, 32, 15, 21, 664, 16, 34, 34, 44]\n",
            "[0, 1, 33, 55, 44, 32, 15, 21, 664, 16] [0, 1, 33, 55, 44, 32, 15, 21, 664, 16, 34, 34, 44]\n",
            "[0, 1, 33, 55, 44, 32, 15, 21, 664, 16] [0, 1, 33, 55, 44, 32, 15, 21, 664, 16, 34, 34, 44]\n",
            "[0, 1, 33, 55, 44, 32, 15, 21, 664, 16] [0, 1, 33, 55, 44, 32, 15, 21, 664, 16, 34, 34, 44]\n",
            "[0, 1, 33, 55, 44, 32, 15, 21, 664, 16] [0, 1, 33, 55, 44, 32, 15, 21, 664, 16, 34, 34, 44]\n",
            "[0, 1, 33, 55, 44, 32, 15, 21, 664, 16] [0, 1, 33, 55, 44, 32, 15, 21, 664, 16, 34, 34, 44]\n",
            "[0, 1, 33, 55, 44, 32, 15, 21, 664, 16] [0, 1, 33, 55, 44, 32, 15, 21, 664, 16, 34, 34, 44]\n"
          ]
        }
      ]
    },
    {
      "cell_type": "markdown",
      "metadata": {
        "id": "C5f2hZ3V-BLc"
      },
      "source": [
        "4. Faça a taboada feita em aula começando do número 9."
      ]
    },
    {
      "cell_type": "code",
      "metadata": {
        "id": "GtQ54UIH-KZn",
        "colab": {
          "base_uri": "https://localhost:8080/"
        },
        "outputId": "3acfbd20-53f8-4650-94df-b4a2b0e07d0f"
      },
      "source": [
        "for a in range(9,10):\n",
        "  for b in range(11):\n",
        "    print(a,'x',b,'=',a*b)"
      ],
      "execution_count": 51,
      "outputs": [
        {
          "output_type": "stream",
          "name": "stdout",
          "text": [
            "9 x 0 = 0\n",
            "9 x 1 = 9\n",
            "9 x 2 = 18\n",
            "9 x 3 = 27\n",
            "9 x 4 = 36\n",
            "9 x 5 = 45\n",
            "9 x 6 = 54\n",
            "9 x 7 = 63\n",
            "9 x 8 = 72\n",
            "9 x 9 = 81\n",
            "9 x 10 = 90\n"
          ]
        }
      ]
    },
    {
      "cell_type": "markdown",
      "metadata": {
        "id": "k04DXGw_-m5o"
      },
      "source": [
        "<h1> Loop 3 <h1>"
      ]
    },
    {
      "cell_type": "markdown",
      "metadata": {
        "id": "cqbLr3n9YVH4"
      },
      "source": [
        "Nessa aula vamos aplicar o que aprendemos até aqui com um pouco mais de profundiade e tem tipo de variável nova na área.\n",
        "*   **Dicionário:** váriavel com estrutura chave:valor, utilizado para armazenar valores e anexar eles em um índice de busca, esse índice (chave) não pode ser repetido enquanto os valores sim podem.\n"
      ]
    },
    {
      "cell_type": "code",
      "metadata": {
        "colab": {
          "base_uri": "https://localhost:8080/"
        },
        "id": "jN_iSoICKyZe",
        "outputId": "f2a5f41e-a464-4635-ccf0-a51da52139fe"
      },
      "source": [
        "#criando um dicionário e printando o valor da chave1\n",
        "dicionario = {'chave1':'valor1','chave2':'valor2','chave3':3}\n",
        "dicionario['chave3']"
      ],
      "execution_count": null,
      "outputs": [
        {
          "output_type": "execute_result",
          "data": {
            "text/plain": [
              "3"
            ]
          },
          "metadata": {
            "tags": []
          },
          "execution_count": 35
        }
      ]
    },
    {
      "cell_type": "code",
      "metadata": {
        "colab": {
          "base_uri": "https://localhost:8080/"
        },
        "id": "QnKQuA7-_9mr",
        "outputId": "3ac9d628-671c-4b3e-a706-05d616752b95"
      },
      "source": [
        "#printando dicionário inteiro\n",
        "dicionario"
      ],
      "execution_count": null,
      "outputs": [
        {
          "output_type": "execute_result",
          "data": {
            "text/plain": [
              "{'chave1': 'valor1', 'chave2': 'valor2', 'chave3': 3}"
            ]
          },
          "metadata": {
            "tags": []
          },
          "execution_count": 36
        }
      ]
    },
    {
      "cell_type": "code",
      "metadata": {
        "colab": {
          "base_uri": "https://localhost:8080/"
        },
        "id": "pi99MPqaABCD",
        "outputId": "63a4d7c4-0200-4d73-d507-4f50e11ac36e"
      },
      "source": [
        "#printando items do dicionário\n",
        "dicionario.items()"
      ],
      "execution_count": null,
      "outputs": [
        {
          "output_type": "execute_result",
          "data": {
            "text/plain": [
              "dict_items([('chave1', 'valor1'), ('chave2', 'valor2'), ('chave3', 3)])"
            ]
          },
          "metadata": {
            "tags": []
          },
          "execution_count": 37
        }
      ]
    },
    {
      "cell_type": "code",
      "metadata": {
        "colab": {
          "base_uri": "https://localhost:8080/"
        },
        "id": "IoBhxpS5ADaK",
        "outputId": "b4369a77-98a4-46ba-91b0-43bdfad63555"
      },
      "source": [
        "#printando valores do dicionário\n",
        "dicionario.values()"
      ],
      "execution_count": null,
      "outputs": [
        {
          "output_type": "execute_result",
          "data": {
            "text/plain": [
              "dict_values(['valor1', 'valor2', 3])"
            ]
          },
          "metadata": {
            "tags": []
          },
          "execution_count": 38
        }
      ]
    },
    {
      "cell_type": "code",
      "metadata": {
        "colab": {
          "base_uri": "https://localhost:8080/"
        },
        "id": "H2IIFfMnAFNh",
        "outputId": "e16fe088-7f85-4326-802f-29c1cd7fd5d1"
      },
      "source": [
        "#printando chaves do dicionario\n",
        "dicionario.keys()"
      ],
      "execution_count": null,
      "outputs": [
        {
          "output_type": "execute_result",
          "data": {
            "text/plain": [
              "dict_keys(['chave1', 'chave2', 'chave3'])"
            ]
          },
          "metadata": {
            "tags": []
          },
          "execution_count": 39
        }
      ]
    },
    {
      "cell_type": "code",
      "metadata": {
        "colab": {
          "base_uri": "https://localhost:8080/"
        },
        "id": "AkzBHcCKAHb7",
        "outputId": "7d277ca3-5298-42db-ac49-9b25588596aa"
      },
      "source": [
        "#percorrendo itens do dicionario com for\n",
        "for a,b in dicionario.items():\n",
        "  print(a,b)"
      ],
      "execution_count": null,
      "outputs": [
        {
          "output_type": "stream",
          "text": [
            "chave1 valor1\n",
            "chave2 valor2\n",
            "chave3 3\n"
          ],
          "name": "stdout"
        }
      ]
    },
    {
      "cell_type": "code",
      "metadata": {
        "colab": {
          "base_uri": "https://localhost:8080/"
        },
        "id": "0cJ3QCpsAM3n",
        "outputId": "131338e5-4bd3-4ecf-ddf3-44a5b0304aa6"
      },
      "source": [
        "#criando duas listas\n",
        "lista_1=[1,2,3,4,5]\n",
        "lista_2=[5,4,3,2,1]\n",
        "#convertendo o zip das 2 listas em dict e atribuindo a um segundo dicionário\n",
        "dicionario_2=dict(zip(lista_1,lista_2))\n",
        "dicionario_2"
      ],
      "execution_count": null,
      "outputs": [
        {
          "output_type": "execute_result",
          "data": {
            "text/plain": [
              "{1: 5, 2: 4, 3: 3, 4: 2, 5: 1}"
            ]
          },
          "metadata": {
            "tags": []
          },
          "execution_count": 43
        }
      ]
    },
    {
      "cell_type": "code",
      "metadata": {
        "colab": {
          "base_uri": "https://localhost:8080/"
        },
        "id": "SYqPd_NlBG04",
        "outputId": "75d98580-0058-462d-fdaa-ac382eaea15f"
      },
      "source": [
        "#criando um terceiro dicionario\n",
        "dicionario_3={}\n",
        "#criando uma lista de cores e outra de adjetivos\n",
        "cor = ['azul','verde','cinza']\n",
        "adj = ['legal','top','top']\n",
        "#percorrendo a lista e atribuindo ao dicionário chave e valor pelo zip das listas corres e adjetivos\n",
        "for a,b in zip(cor, adj):\n",
        "  dicionario_3[a]=b\n",
        "dicionario_3"
      ],
      "execution_count": null,
      "outputs": [
        {
          "output_type": "execute_result",
          "data": {
            "text/plain": [
              "{'azul': 'legal', 'cinza': 'top', 'verde': 'top'}"
            ]
          },
          "metadata": {
            "tags": []
          },
          "execution_count": 44
        }
      ]
    },
    {
      "cell_type": "code",
      "metadata": {
        "colab": {
          "base_uri": "https://localhost:8080/"
        },
        "id": "norWWjR_BzL0",
        "outputId": "5fd5701c-63c4-44e2-bd1b-3614463c8b96"
      },
      "source": [
        "#criando um dicionario com dados reais e com alguns valores em listas\n",
        "dicionario_full = {'usuario':'Peter','lingua':'pt-br','pet':['cachorro_1','cachorro_2']}\n",
        "dicionario_full"
      ],
      "execution_count": null,
      "outputs": [
        {
          "output_type": "execute_result",
          "data": {
            "text/plain": [
              "{'lingua': 'pt-br', 'pet': ['cachorro_1', 'cachorro_2'], 'usuario': 'Peter'}"
            ]
          },
          "metadata": {
            "tags": []
          },
          "execution_count": 45
        }
      ]
    },
    {
      "cell_type": "code",
      "metadata": {
        "colab": {
          "base_uri": "https://localhost:8080/"
        },
        "id": "VzxG35YaCz9g",
        "outputId": "cf446145-e333-4ac3-9390-757e6e1e27f5"
      },
      "source": [
        "#printando cada campo do dicionário em formato de json\n",
        "print('nome do usuario: ', dicionario_full['usuario'])\n",
        "print('lingua nativa: ',dicionario_full['lingua'])\n",
        "#printando len da lista (quantidade de valores)\n",
        "print('qtd de pet: ', len(dicionario_full['pet']))"
      ],
      "execution_count": null,
      "outputs": [
        {
          "output_type": "stream",
          "text": [
            "nome do usuario:  Peter\n",
            "lingua nativa:  pt-br\n",
            "qtd de pet:  2\n"
          ],
          "name": "stdout"
        }
      ]
    },
    {
      "cell_type": "code",
      "metadata": {
        "colab": {
          "base_uri": "https://localhost:8080/"
        },
        "id": "Pxf3jTtaEAE4",
        "outputId": "eff1c0f0-c507-48b4-98b5-d1d23d974717"
      },
      "source": [
        "#criando lista de 3 dicionários com estruturas iguais aos de cima\n",
        "lista_dicionario_full =[{'usuario':'Peter','lingua':'pt-br','pet':['cachorro_1','cachorro_2']},\n",
        "                        {'usuario':'Peter2','lingua':'pt-br','pet':['cachorro_1','cachorro_2']},\n",
        "                        {'usuario':'Peter3','lingua':'es-ar','pet':'cachorro_2'}]\n",
        "lista_dicionario_full"
      ],
      "execution_count": null,
      "outputs": [
        {
          "output_type": "execute_result",
          "data": {
            "text/plain": [
              "[{'lingua': 'pt-br', 'pet': ['cachorro_1', 'cachorro_2'], 'usuario': 'Peter'},\n",
              " {'lingua': 'pt-br', 'pet': ['cachorro_1', 'cachorro_2'], 'usuario': 'Peter2'},\n",
              " {'lingua': 'es-ar', 'pet': 'cachorro_2', 'usuario': 'Peter3'}]"
            ]
          },
          "metadata": {
            "tags": []
          },
          "execution_count": 52
        }
      ]
    },
    {
      "cell_type": "code",
      "metadata": {
        "colab": {
          "base_uri": "https://localhost:8080/"
        },
        "id": "_xlE392XEhXW",
        "outputId": "3a81033a-6744-4e86-fc98-381d79f8557b"
      },
      "source": [
        "#printando dicionario e verificando se o type é diferente de string (lista) para printar o len desse paramêtro \n",
        "#caso não printando qtd = 1\n",
        "for a in lista_dicionario_full:\n",
        "  print('nome do usuario: ', a['usuario'])\n",
        "  print('lingua nativa: ',a['lingua'])\n",
        "  if type(a['pet'])!= str:\n",
        "    print('qtd de pet: ',  len(a['pet']))\n",
        "  else:\n",
        "    print('qtd de pet: ',1)"
      ],
      "execution_count": null,
      "outputs": [
        {
          "output_type": "stream",
          "text": [
            "nome do usuario:  Peter\n",
            "lingua nativa:  pt-br\n",
            "qtd de pet:  2\n",
            "nome do usuario:  Peter2\n",
            "lingua nativa:  pt-br\n",
            "qtd de pet:  2\n",
            "nome do usuario:  Peter3\n",
            "lingua nativa:  es-ar\n",
            "qtd de pet:  1\n"
          ],
          "name": "stdout"
        }
      ]
    },
    {
      "cell_type": "code",
      "metadata": {
        "colab": {
          "base_uri": "https://localhost:8080/"
        },
        "id": "kmdqkTs0FkJn",
        "outputId": "ede4cc1f-3ba5-463e-9758-356097fb9961"
      },
      "source": [
        "#percorrendo valores do dicionário com for\n",
        "for a in dicionario_full.values():\n",
        "  print(a)"
      ],
      "execution_count": null,
      "outputs": [
        {
          "output_type": "stream",
          "text": [
            "Peter\n",
            "pt-br\n",
            "['cachorro_1', 'cachorro_2']\n"
          ],
          "name": "stdout"
        }
      ]
    },
    {
      "cell_type": "code",
      "metadata": {
        "colab": {
          "base_uri": "https://localhost:8080/"
        },
        "id": "IW3_NkcUFsz8",
        "outputId": "cae75cd8-1910-4834-8f00-6f1453b856b2"
      },
      "source": [
        "#percorrendo valores do dicionário e verificando se o type de algum deles é list, se for, \n",
        "#criando um novo for e percorrendo até range(len(a)) os valores\n",
        "for a in dicionario_full.values():\n",
        "  if type(a)==str:\n",
        "    print(a)\n",
        "  if type(a)==list:\n",
        "    for b in range(len(a)):\n",
        "      print(a[b])"
      ],
      "execution_count": null,
      "outputs": [
        {
          "output_type": "stream",
          "text": [
            "Peter\n",
            "pt-br\n",
            "cachorro_1\n",
            "cachorro_2\n"
          ],
          "name": "stdout"
        }
      ]
    },
    {
      "cell_type": "code",
      "metadata": {
        "colab": {
          "base_uri": "https://localhost:8080/"
        },
        "id": "RbuKhKYEGeQS",
        "outputId": "89b6b30c-4ad9-4440-9361-fae95e0a7e9a"
      },
      "source": [
        "#criando estrutura com varios dicionarios\n",
        "varios_dict = {\n",
        "  \"aluno\" : {\n",
        "    \"name\" : \"fulano\",\n",
        "    \"year\" : 1985\n",
        "  },\n",
        "  \"aluno2\" : {\n",
        "    \"name\" : \"ciclano\",\n",
        "    \"year\" : 1999\n",
        "  },\n",
        "  \"aluno3\" : {\n",
        "    \"name\" : \"Linus\",\n",
        "    \"year\" : 2021\n",
        "  }\n",
        "}\n",
        "#criando for para percorrer os items do dicionario\n",
        "for a,b in varios_dict.items():\n",
        "  print(a,b)"
      ],
      "execution_count": null,
      "outputs": [
        {
          "output_type": "stream",
          "text": [
            "aluno {'name': 'fulano', 'year': 1985}\n",
            "aluno2 {'name': 'ciclano', 'year': 1999}\n",
            "aluno3 {'name': 'Linus', 'year': 2021}\n"
          ],
          "name": "stdout"
        }
      ]
    },
    {
      "cell_type": "code",
      "metadata": {
        "colab": {
          "base_uri": "https://localhost:8080/"
        },
        "id": "NVzVKqsLG8Mj",
        "outputId": "9f5913e0-8efa-490d-a766-27a8d899db3c"
      },
      "source": [
        "#percorrendo os items do dicionario com enumerate\n",
        "for a,b in enumerate(varios_dict.items()):\n",
        "  print(a,b)"
      ],
      "execution_count": null,
      "outputs": [
        {
          "output_type": "stream",
          "text": [
            "0 ('aluno', {'name': 'fulano', 'year': 1985})\n",
            "1 ('aluno2', {'name': 'ciclano', 'year': 1999})\n",
            "2 ('aluno3', {'name': 'Linus', 'year': 2021})\n"
          ],
          "name": "stdout"
        }
      ]
    },
    {
      "cell_type": "code",
      "metadata": {
        "colab": {
          "base_uri": "https://localhost:8080/"
        },
        "id": "mA9I34amHP34",
        "outputId": "50c64533-f2e8-4fd3-9151-40c1953dc147"
      },
      "source": [
        "#percorrendo os items do dicionário com zip do enumerate\n",
        "for a in zip(enumerate(varios_dict.items())):\n",
        "  print(a)\n"
      ],
      "execution_count": null,
      "outputs": [
        {
          "output_type": "stream",
          "text": [
            "((0, ('aluno', {'name': 'fulano', 'year': 1985})),)\n",
            "((1, ('aluno2', {'name': 'ciclano', 'year': 1999})),)\n",
            "((2, ('aluno3', {'name': 'Linus', 'year': 2021})),)\n"
          ],
          "name": "stdout"
        }
      ]
    },
    {
      "cell_type": "markdown",
      "metadata": {
        "id": "OJ8l2R0zOjFb"
      },
      "source": [
        "<h2> Dicas </h2>"
      ]
    },
    {
      "cell_type": "markdown",
      "metadata": {
        "id": "fNkVMA5se0K5"
      },
      "source": [
        "\n",
        "\n",
        "> O Dicionário é o mesmo formato do arquivo Json, é bastante usado para trabalhar com dados semi-estruturados.\n"
      ]
    },
    {
      "cell_type": "code",
      "metadata": {
        "colab": {
          "base_uri": "https://localhost:8080/"
        },
        "id": "HIM-ButKfX07",
        "outputId": "2b190486-5fea-435e-9871-8fa6ec20cad2"
      },
      "source": [
        "!wget https://raw.githubusercontent.com/LearnWebCode/json-example/master/animals-1.json\n",
        "\n"
      ],
      "execution_count": 53,
      "outputs": [
        {
          "output_type": "stream",
          "name": "stdout",
          "text": [
            "--2021-09-27 23:39:36--  https://raw.githubusercontent.com/LearnWebCode/json-example/master/animals-1.json\n",
            "Resolving raw.githubusercontent.com (raw.githubusercontent.com)... 185.199.108.133, 185.199.109.133, 185.199.110.133, ...\n",
            "Connecting to raw.githubusercontent.com (raw.githubusercontent.com)|185.199.108.133|:443... connected.\n",
            "HTTP request sent, awaiting response... 200 OK\n",
            "Length: 420 [text/plain]\n",
            "Saving to: ‘animals-1.json’\n",
            "\n",
            "animals-1.json      100%[===================>]     420  --.-KB/s    in 0s      \n",
            "\n",
            "2021-09-27 23:39:36 (20.8 MB/s) - ‘animals-1.json’ saved [420/420]\n",
            "\n"
          ]
        }
      ]
    },
    {
      "cell_type": "code",
      "metadata": {
        "colab": {
          "base_uri": "https://localhost:8080/"
        },
        "id": "kmscYkFrJV_S",
        "outputId": "550deae3-91d5-4141-ad88-a07c5b9df332"
      },
      "source": [
        "import json\n",
        "with open('animals-1.json') as json_file:\n",
        "    itemData = json.load(json_file)\n",
        "itemData"
      ],
      "execution_count": 99,
      "outputs": [
        {
          "output_type": "execute_result",
          "data": {
            "text/plain": [
              "[{'foods': {'dislikes': ['ham', 'zucchini'], 'likes': ['tuna', 'catnip']},\n",
              "  'name': 'Meowsy',\n",
              "  'species': 'cat'},\n",
              " {'foods': {'dislikes': ['tuna'], 'likes': ['bones', 'carrots']},\n",
              "  'name': 'Barky',\n",
              "  'species': 'dog'},\n",
              " {'foods': {'dislikes': ['cookies'], 'likes': ['mice']},\n",
              "  'name': 'Purrpaws',\n",
              "  'species': 'cat'}]"
            ]
          },
          "metadata": {},
          "execution_count": 99
        }
      ]
    },
    {
      "cell_type": "markdown",
      "metadata": {
        "id": "6JNsXVpdPICs"
      },
      "source": [
        "<h1>Exercícios:<h1>"
      ]
    },
    {
      "cell_type": "markdown",
      "metadata": {
        "id": "RIh9DRYRPRYH"
      },
      "source": [
        "1. Percorra cada pet no dicionário acima e imprima sua espécie."
      ]
    },
    {
      "cell_type": "code",
      "metadata": {
        "id": "cN42M5YJPP4r",
        "colab": {
          "base_uri": "https://localhost:8080/"
        },
        "outputId": "ae1aa899-0de3-4d3b-b79f-eda42955b7ee"
      },
      "source": [
        "for a in enumerate(itemData):\n",
        "  print(a)\n",
        "\n",
        "for b in itemData:\n",
        "  print( 'Animal:', b['species'])\n",
        "  \n"
      ],
      "execution_count": 134,
      "outputs": [
        {
          "output_type": "stream",
          "name": "stdout",
          "text": [
            "(0, {'name': 'Meowsy', 'species': 'cat', 'foods': {'likes': ['tuna', 'catnip'], 'dislikes': ['ham', 'zucchini']}})\n",
            "(1, {'name': 'Barky', 'species': 'dog', 'foods': {'likes': ['bones', 'carrots'], 'dislikes': ['tuna']}})\n",
            "(2, {'name': 'Purrpaws', 'species': 'cat', 'foods': {'likes': ['mice'], 'dislikes': ['cookies']}})\n",
            "Animal: cat\n",
            "Animal: dog\n",
            "Animal: cat\n"
          ]
        }
      ]
    },
    {
      "cell_type": "markdown",
      "metadata": {
        "id": "zWoHFDoqPQeZ"
      },
      "source": [
        "2. Percorra cada pet no dicionário e imprima e pet com maior quantidade de dislikes."
      ]
    },
    {
      "cell_type": "code",
      "metadata": {
        "id": "G5OwUn5JPG39",
        "colab": {
          "base_uri": "https://localhost:8080/",
          "height": 197
        },
        "outputId": "efb64891-cfc4-4071-ccbd-e4df58f7752e"
      },
      "source": [
        "animais =['cat', 'dog']\n",
        "\n",
        "for a in animais and itemData:\n",
        "  print('Especie:', a['dislikes'])"
      ],
      "execution_count": 140,
      "outputs": [
        {
          "output_type": "error",
          "ename": "KeyError",
          "evalue": "ignored",
          "traceback": [
            "\u001b[0;31m---------------------------------------------------------------------------\u001b[0m",
            "\u001b[0;31mKeyError\u001b[0m                                  Traceback (most recent call last)",
            "\u001b[0;32m<ipython-input-140-ec62435b6da8>\u001b[0m in \u001b[0;36m<module>\u001b[0;34m()\u001b[0m\n\u001b[1;32m      2\u001b[0m \u001b[0;34m\u001b[0m\u001b[0m\n\u001b[1;32m      3\u001b[0m \u001b[0;32mfor\u001b[0m \u001b[0ma\u001b[0m \u001b[0;32min\u001b[0m \u001b[0manimais\u001b[0m \u001b[0;32mand\u001b[0m \u001b[0mitemData\u001b[0m\u001b[0;34m:\u001b[0m\u001b[0;34m\u001b[0m\u001b[0;34m\u001b[0m\u001b[0m\n\u001b[0;32m----> 4\u001b[0;31m   \u001b[0mprint\u001b[0m\u001b[0;34m(\u001b[0m\u001b[0;34m'Especie:'\u001b[0m\u001b[0;34m,\u001b[0m \u001b[0ma\u001b[0m\u001b[0;34m[\u001b[0m\u001b[0;34m'dislikes'\u001b[0m\u001b[0;34m]\u001b[0m\u001b[0;34m)\u001b[0m\u001b[0;34m\u001b[0m\u001b[0;34m\u001b[0m\u001b[0m\n\u001b[0m",
            "\u001b[0;31mKeyError\u001b[0m: 'dislikes'"
          ]
        }
      ]
    },
    {
      "cell_type": "markdown",
      "metadata": {
        "id": "CAAVU4DMPrPx"
      },
      "source": [
        "\n",
        "3. Conte o total de comidas citadas no dicionário e quantas se repetem.\n"
      ]
    },
    {
      "cell_type": "code",
      "metadata": {
        "id": "Np08VJ4QO0t6"
      },
      "source": [
        ""
      ],
      "execution_count": 113,
      "outputs": []
    },
    {
      "cell_type": "code",
      "metadata": {
        "id": "-rBmCsWQwruf"
      },
      "source": [
        ""
      ],
      "execution_count": null,
      "outputs": []
    }
  ]
}