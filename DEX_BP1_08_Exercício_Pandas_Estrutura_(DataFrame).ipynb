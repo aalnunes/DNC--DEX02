{
 "nbformat": 4,
 "nbformat_minor": 0,
 "metadata": {
  "colab": {
   "name": "DEX - BP1 08 - Exercício - Pandas: Estrutura (DataFrame).ipynb",
   "provenance": [],
   "collapsed_sections": []
  },
  "kernelspec": {
   "name": "python3",
   "display_name": "Python 3"
  },
  "language_info": {
   "name": "python"
  }
 },
 "cells": [
  {
   "cell_type": "markdown",
   "metadata": {
    "id": "Me4e2ZieZNcl"
   },
   "source": [
    "![images.png](data:image/png;base64,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)</b> <br>Consultor: Peterson Almeida <br>\n",
    "\n",
    "\n",
    "\n",
    "<h1> Estrutura Pandas </h1>\n",
    "\n",
    "<b> Geral:</b><br>\n",
    "Pandas é uma biblioteca python que trabalha com um Dataframe (uma estrutura muito similar a uma tabela de banco de dados).\n",
    "\n",
    "<br> "
   ]
  },
  {
   "cell_type": "markdown",
   "metadata": {
    "id": "DWbwRmPvMjxh"
   },
   "source": [
    "<h3> Series </h3>"
   ]
  },
  {
   "cell_type": "code",
   "metadata": {
    "id": "TJJgfJnFbFJ9"
   },
   "source": [
    "import pandas as pd\n",
    "import numpy as np\n"
   ],
   "execution_count": 3,
   "outputs": []
  },
  {
   "cell_type": "code",
   "metadata": {
    "colab": {
     "base_uri": "https://localhost:8080/"
    },
    "id": "zm6pp4i5n_Hi",
    "outputId": "5bc7d233-dbef-4cf6-d0ec-3c70d2c71fa5"
   },
   "source": [
    "series = pd.Series(np.arange(0,10,2))\n",
    "series"
   ],
   "execution_count": 4,
   "outputs": [
    {
     "data": {
      "text/plain": "0    0\n1    2\n2    4\n3    6\n4    8\ndtype: int32"
     },
     "execution_count": 4,
     "metadata": {},
     "output_type": "execute_result"
    }
   ]
  },
  {
   "cell_type": "code",
   "metadata": {
    "colab": {
     "base_uri": "https://localhost:8080/"
    },
    "id": "NLhjm3QyMskT",
    "outputId": "98a22c33-f9d5-479f-f796-05f1e2e73dc4"
   },
   "source": [
    "ser = pd.Series(data=series.values, index=['a', 'b', 'c','d','e'])\n",
    "ser"
   ],
   "execution_count": 5,
   "outputs": [
    {
     "data": {
      "text/plain": "a    0\nb    2\nc    4\nd    6\ne    8\ndtype: int32"
     },
     "execution_count": 5,
     "metadata": {},
     "output_type": "execute_result"
    }
   ]
  },
  {
   "cell_type": "code",
   "metadata": {
    "colab": {
     "base_uri": "https://localhost:8080/"
    },
    "id": "Ap3YT76iM1IE",
    "outputId": "d17becb0-0c69-41a6-d96b-1fe17fd6823f"
   },
   "source": [
    "ser['c']"
   ],
   "execution_count": 6,
   "outputs": [
    {
     "data": {
      "text/plain": "4"
     },
     "execution_count": 6,
     "metadata": {},
     "output_type": "execute_result"
    }
   ]
  },
  {
   "cell_type": "code",
   "metadata": {
    "colab": {
     "base_uri": "https://localhost:8080/"
    },
    "id": "OJl1PGxShCHG",
    "outputId": "e83d07bf-757b-4d02-9e10-6ac030348b71"
   },
   "source": [
    "ser.dtype"
   ],
   "execution_count": 7,
   "outputs": [
    {
     "data": {
      "text/plain": "dtype('int32')"
     },
     "execution_count": 7,
     "metadata": {},
     "output_type": "execute_result"
    }
   ]
  },
  {
   "cell_type": "code",
   "metadata": {
    "colab": {
     "base_uri": "https://localhost:8080/"
    },
    "id": "c7G5fzwRhbO5",
    "outputId": "728f3c40-16fe-4dab-8e6f-c38850f31118"
   },
   "source": [
    "print(ser.index)\n",
    "print(ser.values)\n"
   ],
   "execution_count": 8,
   "outputs": [
    {
     "name": "stdout",
     "output_type": "stream",
     "text": [
      "Index(['a', 'b', 'c', 'd', 'e'], dtype='object')\n",
      "[0 2 4 6 8]\n"
     ]
    }
   ]
  },
  {
   "cell_type": "code",
   "metadata": {
    "colab": {
     "base_uri": "https://localhost:8080/"
    },
    "id": "dhtRnT5xh5j0",
    "outputId": "bdcce9d4-2ffd-49b7-aaba-a2b7fcd2ef6d"
   },
   "source": [
    "ser.iloc[-1]"
   ],
   "execution_count": 9,
   "outputs": [
    {
     "data": {
      "text/plain": "8"
     },
     "execution_count": 9,
     "metadata": {},
     "output_type": "execute_result"
    }
   ]
  },
  {
   "cell_type": "code",
   "metadata": {
    "colab": {
     "base_uri": "https://localhost:8080/"
    },
    "id": "CaAiHdmBiOIz",
    "outputId": "607a9822-0abd-407f-c633-c5665d54022d"
   },
   "source": [
    "ser.loc['e']"
   ],
   "execution_count": 10,
   "outputs": [
    {
     "data": {
      "text/plain": "8"
     },
     "execution_count": 10,
     "metadata": {},
     "output_type": "execute_result"
    }
   ]
  },
  {
   "cell_type": "code",
   "metadata": {
    "colab": {
     "base_uri": "https://localhost:8080/"
    },
    "id": "HSfjBN6SkQlK",
    "outputId": "866c8d98-926c-4381-883b-3de01c289f23"
   },
   "source": [
    "ser.shape"
   ],
   "execution_count": 11,
   "outputs": [
    {
     "data": {
      "text/plain": "(5,)"
     },
     "execution_count": 11,
     "metadata": {},
     "output_type": "execute_result"
    }
   ]
  },
  {
   "cell_type": "markdown",
   "metadata": {
    "id": "Up5NYLwGNnzL"
   },
   "source": [
    "<h3>DataFrame</h3>"
   ]
  },
  {
   "cell_type": "code",
   "metadata": {
    "colab": {
     "base_uri": "https://localhost:8080/",
     "height": 202
    },
    "id": "EPFuaGRRkiEk",
    "outputId": "11eff332-dcae-41e3-f4f8-8646d8d0db8d"
   },
   "source": [
    "df = pd.DataFrame({'idade':[43,30,21,43,21],'nome':['Fulano','Ciclano','Beltrano','Fulana','Ciclana']})\n",
    "df.head()"
   ],
   "execution_count": 12,
   "outputs": [
    {
     "data": {
      "text/plain": "   idade      nome\n0     43    Fulano\n1     30   Ciclano\n2     21  Beltrano\n3     43    Fulana\n4     21   Ciclana",
      "text/html": "<div>\n<style scoped>\n    .dataframe tbody tr th:only-of-type {\n        vertical-align: middle;\n    }\n\n    .dataframe tbody tr th {\n        vertical-align: top;\n    }\n\n    .dataframe thead th {\n        text-align: right;\n    }\n</style>\n<table border=\"1\" class=\"dataframe\">\n  <thead>\n    <tr style=\"text-align: right;\">\n      <th></th>\n      <th>idade</th>\n      <th>nome</th>\n    </tr>\n  </thead>\n  <tbody>\n    <tr>\n      <th>0</th>\n      <td>43</td>\n      <td>Fulano</td>\n    </tr>\n    <tr>\n      <th>1</th>\n      <td>30</td>\n      <td>Ciclano</td>\n    </tr>\n    <tr>\n      <th>2</th>\n      <td>21</td>\n      <td>Beltrano</td>\n    </tr>\n    <tr>\n      <th>3</th>\n      <td>43</td>\n      <td>Fulana</td>\n    </tr>\n    <tr>\n      <th>4</th>\n      <td>21</td>\n      <td>Ciclana</td>\n    </tr>\n  </tbody>\n</table>\n</div>"
     },
     "execution_count": 12,
     "metadata": {},
     "output_type": "execute_result"
    }
   ]
  },
  {
   "cell_type": "code",
   "metadata": {
    "id": "D-E7Q2Z2mY5l",
    "colab": {
     "base_uri": "https://localhost:8080/"
    },
    "outputId": "198374f5-41dc-46c5-d48e-2efd58680ab2"
   },
   "source": [
    "df.shape"
   ],
   "execution_count": 13,
   "outputs": [
    {
     "data": {
      "text/plain": "(5, 2)"
     },
     "execution_count": 13,
     "metadata": {},
     "output_type": "execute_result"
    }
   ]
  },
  {
   "cell_type": "code",
   "metadata": {
    "colab": {
     "base_uri": "https://localhost:8080/"
    },
    "id": "i6LXKGqL4d68",
    "outputId": "43e411c2-97bc-427c-b4f5-524ef8ef7017"
   },
   "source": [
    "df.dtypes"
   ],
   "execution_count": 14,
   "outputs": [
    {
     "data": {
      "text/plain": "idade     int64\nnome     object\ndtype: object"
     },
     "execution_count": 14,
     "metadata": {},
     "output_type": "execute_result"
    }
   ]
  },
  {
   "cell_type": "code",
   "metadata": {
    "colab": {
     "base_uri": "https://localhost:8080/",
     "height": 294
    },
    "id": "T7Q7F3mY4iWX",
    "outputId": "506eaa1b-bb22-4787-a14e-ff0ca53e8e2c"
   },
   "source": [
    "df.describe()"
   ],
   "execution_count": 15,
   "outputs": [
    {
     "data": {
      "text/plain": "           idade\ncount   5.000000\nmean   31.600000\nstd    11.036304\nmin    21.000000\n25%    21.000000\n50%    30.000000\n75%    43.000000\nmax    43.000000",
      "text/html": "<div>\n<style scoped>\n    .dataframe tbody tr th:only-of-type {\n        vertical-align: middle;\n    }\n\n    .dataframe tbody tr th {\n        vertical-align: top;\n    }\n\n    .dataframe thead th {\n        text-align: right;\n    }\n</style>\n<table border=\"1\" class=\"dataframe\">\n  <thead>\n    <tr style=\"text-align: right;\">\n      <th></th>\n      <th>idade</th>\n    </tr>\n  </thead>\n  <tbody>\n    <tr>\n      <th>count</th>\n      <td>5.000000</td>\n    </tr>\n    <tr>\n      <th>mean</th>\n      <td>31.600000</td>\n    </tr>\n    <tr>\n      <th>std</th>\n      <td>11.036304</td>\n    </tr>\n    <tr>\n      <th>min</th>\n      <td>21.000000</td>\n    </tr>\n    <tr>\n      <th>25%</th>\n      <td>21.000000</td>\n    </tr>\n    <tr>\n      <th>50%</th>\n      <td>30.000000</td>\n    </tr>\n    <tr>\n      <th>75%</th>\n      <td>43.000000</td>\n    </tr>\n    <tr>\n      <th>max</th>\n      <td>43.000000</td>\n    </tr>\n  </tbody>\n</table>\n</div>"
     },
     "execution_count": 15,
     "metadata": {},
     "output_type": "execute_result"
    }
   ]
  },
  {
   "cell_type": "code",
   "metadata": {
    "colab": {
     "base_uri": "https://localhost:8080/",
     "height": 110
    },
    "id": "64RDPS9i4qUP",
    "outputId": "8c63fef7-eb81-4258-ae10-c98e38263b01"
   },
   "source": [
    "df[df['idade']==21]"
   ],
   "execution_count": 16,
   "outputs": [
    {
     "data": {
      "text/plain": "   idade      nome\n2     21  Beltrano\n4     21   Ciclana",
      "text/html": "<div>\n<style scoped>\n    .dataframe tbody tr th:only-of-type {\n        vertical-align: middle;\n    }\n\n    .dataframe tbody tr th {\n        vertical-align: top;\n    }\n\n    .dataframe thead th {\n        text-align: right;\n    }\n</style>\n<table border=\"1\" class=\"dataframe\">\n  <thead>\n    <tr style=\"text-align: right;\">\n      <th></th>\n      <th>idade</th>\n      <th>nome</th>\n    </tr>\n  </thead>\n  <tbody>\n    <tr>\n      <th>2</th>\n      <td>21</td>\n      <td>Beltrano</td>\n    </tr>\n    <tr>\n      <th>4</th>\n      <td>21</td>\n      <td>Ciclana</td>\n    </tr>\n  </tbody>\n</table>\n</div>"
     },
     "execution_count": 16,
     "metadata": {},
     "output_type": "execute_result"
    }
   ]
  },
  {
   "cell_type": "code",
   "metadata": {
    "colab": {
     "base_uri": "https://localhost:8080/"
    },
    "id": "eixiQp4G4uGU",
    "outputId": "b340793b-d36c-4659-e5fc-bbe12f7147e3"
   },
   "source": [
    "print(df.columns)\n",
    "print(df.values)"
   ],
   "execution_count": 17,
   "outputs": [
    {
     "name": "stdout",
     "output_type": "stream",
     "text": [
      "Index(['idade', 'nome'], dtype='object')\n",
      "[[43 'Fulano']\n",
      " [30 'Ciclano']\n",
      " [21 'Beltrano']\n",
      " [43 'Fulana']\n",
      " [21 'Ciclana']]\n"
     ]
    }
   ]
  },
  {
   "cell_type": "code",
   "metadata": {
    "colab": {
     "base_uri": "https://localhost:8080/",
     "height": 283
    },
    "id": "JbaKUWSF4zg-",
    "outputId": "5d2fedbe-1aef-4ed6-e22d-7e64609ac8dc"
   },
   "source": [
    "df['idade'].plot()"
   ],
   "execution_count": 18,
   "outputs": [
    {
     "data": {
      "text/plain": "<AxesSubplot:>"
     },
     "execution_count": 18,
     "metadata": {},
     "output_type": "execute_result"
    },
    {
     "data": {
      "text/plain": "<Figure size 432x288 with 1 Axes>",
      "image/png": "[encoded data removed]"
     },
     "metadata": {
      "needs_background": "light"
     },
     "output_type": "display_data"
    }
   ]
  },
  {
   "cell_type": "code",
   "metadata": {
    "colab": {
     "base_uri": "https://localhost:8080/",
     "height": 141
    },
    "id": "1AsiCyqf47Wm",
    "outputId": "fc062d74-1efd-4066-cc64-d8cfbc8b1888"
   },
   "source": [
    "df.loc[0:2]"
   ],
   "execution_count": 19,
   "outputs": [
    {
     "data": {
      "text/plain": "   idade      nome\n0     43    Fulano\n1     30   Ciclano\n2     21  Beltrano",
      "text/html": "<div>\n<style scoped>\n    .dataframe tbody tr th:only-of-type {\n        vertical-align: middle;\n    }\n\n    .dataframe tbody tr th {\n        vertical-align: top;\n    }\n\n    .dataframe thead th {\n        text-align: right;\n    }\n</style>\n<table border=\"1\" class=\"dataframe\">\n  <thead>\n    <tr style=\"text-align: right;\">\n      <th></th>\n      <th>idade</th>\n      <th>nome</th>\n    </tr>\n  </thead>\n  <tbody>\n    <tr>\n      <th>0</th>\n      <td>43</td>\n      <td>Fulano</td>\n    </tr>\n    <tr>\n      <th>1</th>\n      <td>30</td>\n      <td>Ciclano</td>\n    </tr>\n    <tr>\n      <th>2</th>\n      <td>21</td>\n      <td>Beltrano</td>\n    </tr>\n  </tbody>\n</table>\n</div>"
     },
     "execution_count": 19,
     "metadata": {},
     "output_type": "execute_result"
    }
   ]
  },
  {
   "cell_type": "code",
   "metadata": {
    "colab": {
     "base_uri": "https://localhost:8080/",
     "height": 110
    },
    "id": "bS-2jlvc5OEl",
    "outputId": "a46d3927-919c-4765-87aa-e855508a4351"
   },
   "source": [
    "df.iloc[3:]"
   ],
   "execution_count": 20,
   "outputs": [
    {
     "data": {
      "text/plain": "   idade     nome\n3     43   Fulana\n4     21  Ciclana",
      "text/html": "<div>\n<style scoped>\n    .dataframe tbody tr th:only-of-type {\n        vertical-align: middle;\n    }\n\n    .dataframe tbody tr th {\n        vertical-align: top;\n    }\n\n    .dataframe thead th {\n        text-align: right;\n    }\n</style>\n<table border=\"1\" class=\"dataframe\">\n  <thead>\n    <tr style=\"text-align: right;\">\n      <th></th>\n      <th>idade</th>\n      <th>nome</th>\n    </tr>\n  </thead>\n  <tbody>\n    <tr>\n      <th>3</th>\n      <td>43</td>\n      <td>Fulana</td>\n    </tr>\n    <tr>\n      <th>4</th>\n      <td>21</td>\n      <td>Ciclana</td>\n    </tr>\n  </tbody>\n</table>\n</div>"
     },
     "execution_count": 20,
     "metadata": {},
     "output_type": "execute_result"
    }
   ]
  },
  {
   "cell_type": "code",
   "metadata": {
    "colab": {
     "base_uri": "https://localhost:8080/"
    },
    "id": "TrKXVBPl5RXG",
    "outputId": "2977682a-b03f-4608-8c03-c60c5309025b"
   },
   "source": [
    "df.idade.sum()"
   ],
   "execution_count": 21,
   "outputs": [
    {
     "data": {
      "text/plain": "158"
     },
     "execution_count": 21,
     "metadata": {},
     "output_type": "execute_result"
    }
   ]
  },
  {
   "cell_type": "code",
   "metadata": {
    "colab": {
     "base_uri": "https://localhost:8080/"
    },
    "id": "UBG5x_ZI5cpj",
    "outputId": "2a831cf7-50a6-4b21-e7d7-14c150f0262c"
   },
   "source": [
    "df['nome'].value_counts()"
   ],
   "execution_count": 22,
   "outputs": [
    {
     "data": {
      "text/plain": "Ciclano     1\nFulana      1\nCiclana     1\nFulano      1\nBeltrano    1\nName: nome, dtype: int64"
     },
     "execution_count": 22,
     "metadata": {},
     "output_type": "execute_result"
    }
   ]
  },
  {
   "cell_type": "code",
   "metadata": {
    "colab": {
     "base_uri": "https://localhost:8080/"
    },
    "id": "pcJ1Awf_5tmz",
    "outputId": "791b4a0c-ea2a-40e0-d0ff-f3eb5bfa9f4b"
   },
   "source": [
    "df['idade'].max()"
   ],
   "execution_count": 23,
   "outputs": [
    {
     "data": {
      "text/plain": "43"
     },
     "execution_count": 23,
     "metadata": {},
     "output_type": "execute_result"
    }
   ]
  },
  {
   "cell_type": "code",
   "metadata": {
    "colab": {
     "base_uri": "https://localhost:8080/",
     "height": 202
    },
    "id": "FARHyCcH5v2L",
    "outputId": "cd484373-a103-4826-f8ec-cb47791e4ad4"
   },
   "source": [
    "df.isnull()"
   ],
   "execution_count": 24,
   "outputs": [
    {
     "data": {
      "text/plain": "   idade   nome\n0  False  False\n1  False  False\n2  False  False\n3  False  False\n4  False  False",
      "text/html": "<div>\n<style scoped>\n    .dataframe tbody tr th:only-of-type {\n        vertical-align: middle;\n    }\n\n    .dataframe tbody tr th {\n        vertical-align: top;\n    }\n\n    .dataframe thead th {\n        text-align: right;\n    }\n</style>\n<table border=\"1\" class=\"dataframe\">\n  <thead>\n    <tr style=\"text-align: right;\">\n      <th></th>\n      <th>idade</th>\n      <th>nome</th>\n    </tr>\n  </thead>\n  <tbody>\n    <tr>\n      <th>0</th>\n      <td>False</td>\n      <td>False</td>\n    </tr>\n    <tr>\n      <th>1</th>\n      <td>False</td>\n      <td>False</td>\n    </tr>\n    <tr>\n      <th>2</th>\n      <td>False</td>\n      <td>False</td>\n    </tr>\n    <tr>\n      <th>3</th>\n      <td>False</td>\n      <td>False</td>\n    </tr>\n    <tr>\n      <th>4</th>\n      <td>False</td>\n      <td>False</td>\n    </tr>\n  </tbody>\n</table>\n</div>"
     },
     "execution_count": 24,
     "metadata": {},
     "output_type": "execute_result"
    }
   ]
  },
  {
   "cell_type": "code",
   "metadata": {
    "colab": {
     "base_uri": "https://localhost:8080/"
    },
    "id": "_CP5RfIZ6Gid",
    "outputId": "2f52a004-bf40-490c-ea6b-05bf385c64ef"
   },
   "source": [
    "df.info()"
   ],
   "execution_count": 25,
   "outputs": [
    {
     "name": "stdout",
     "output_type": "stream",
     "text": [
      "<class 'pandas.core.frame.DataFrame'>\n",
      "RangeIndex: 5 entries, 0 to 4\n",
      "Data columns (total 2 columns):\n",
      " #   Column  Non-Null Count  Dtype \n",
      "---  ------  --------------  ----- \n",
      " 0   idade   5 non-null      int64 \n",
      " 1   nome    5 non-null      object\n",
      "dtypes: int64(1), object(1)\n",
      "memory usage: 208.0+ bytes\n"
     ]
    }
   ]
  },
  {
   "cell_type": "code",
   "metadata": {
    "colab": {
     "base_uri": "https://localhost:8080/",
     "height": 289
    },
    "id": "_uMM5EG2Q3ws",
    "outputId": "527f1337-a7f3-492f-b814-e0f01eedde73"
   },
   "source": [
    "df['idade'][df['idade']==21]=33\n",
    "df.head()"
   ],
   "execution_count": 26,
   "outputs": [
    {
     "name": "stderr",
     "output_type": "stream",
     "text": [
      "<ipython-input-26-7fde03e9cf0d>:1: SettingWithCopyWarning: \n",
      "A value is trying to be set on a copy of a slice from a DataFrame\n",
      "\n",
      "See the caveats in the documentation: https://pandas.pydata.org/pandas-docs/stable/user_guide/indexing.html#returning-a-view-versus-a-copy\n",
      "  df['idade'][df['idade']==21]=33\n"
     ]
    },
    {
     "data": {
      "text/plain": "   idade      nome\n0     43    Fulano\n1     30   Ciclano\n2     33  Beltrano\n3     43    Fulana\n4     33   Ciclana",
      "text/html": "<div>\n<style scoped>\n    .dataframe tbody tr th:only-of-type {\n        vertical-align: middle;\n    }\n\n    .dataframe tbody tr th {\n        vertical-align: top;\n    }\n\n    .dataframe thead th {\n        text-align: right;\n    }\n</style>\n<table border=\"1\" class=\"dataframe\">\n  <thead>\n    <tr style=\"text-align: right;\">\n      <th></th>\n      <th>idade</th>\n      <th>nome</th>\n    </tr>\n  </thead>\n  <tbody>\n    <tr>\n      <th>0</th>\n      <td>43</td>\n      <td>Fulano</td>\n    </tr>\n    <tr>\n      <th>1</th>\n      <td>30</td>\n      <td>Ciclano</td>\n    </tr>\n    <tr>\n      <th>2</th>\n      <td>33</td>\n      <td>Beltrano</td>\n    </tr>\n    <tr>\n      <th>3</th>\n      <td>43</td>\n      <td>Fulana</td>\n    </tr>\n    <tr>\n      <th>4</th>\n      <td>33</td>\n      <td>Ciclana</td>\n    </tr>\n  </tbody>\n</table>\n</div>"
     },
     "execution_count": 26,
     "metadata": {},
     "output_type": "execute_result"
    }
   ]
  },
  {
   "cell_type": "code",
   "metadata": {
    "colab": {
     "base_uri": "https://localhost:8080/",
     "height": 110
    },
    "id": "DF4eTkupREyN",
    "outputId": "3b91caee-fcb6-4f22-d51c-88746b43b2e9"
   },
   "source": [
    "df.query('idade > 35')"
   ],
   "execution_count": 27,
   "outputs": [
    {
     "data": {
      "text/plain": "   idade    nome\n0     43  Fulano\n3     43  Fulana",
      "text/html": "<div>\n<style scoped>\n    .dataframe tbody tr th:only-of-type {\n        vertical-align: middle;\n    }\n\n    .dataframe tbody tr th {\n        vertical-align: top;\n    }\n\n    .dataframe thead th {\n        text-align: right;\n    }\n</style>\n<table border=\"1\" class=\"dataframe\">\n  <thead>\n    <tr style=\"text-align: right;\">\n      <th></th>\n      <th>idade</th>\n      <th>nome</th>\n    </tr>\n  </thead>\n  <tbody>\n    <tr>\n      <th>0</th>\n      <td>43</td>\n      <td>Fulano</td>\n    </tr>\n    <tr>\n      <th>3</th>\n      <td>43</td>\n      <td>Fulana</td>\n    </tr>\n  </tbody>\n</table>\n</div>"
     },
     "execution_count": 27,
     "metadata": {},
     "output_type": "execute_result"
    }
   ]
  },
  {
   "cell_type": "code",
   "metadata": {
    "colab": {
     "base_uri": "https://localhost:8080/",
     "height": 202
    },
    "id": "3dgS_ckMRR-9",
    "outputId": "ebb67aa4-d4c9-434e-cbd6-f966f8b281cc"
   },
   "source": [
    "df.rename({'idade':'Idade'},inplace=True, axis='columns')\n",
    "df.tail()"
   ],
   "execution_count": 28,
   "outputs": [
    {
     "data": {
      "text/plain": "   Idade      nome\n0     43    Fulano\n1     30   Ciclano\n2     33  Beltrano\n3     43    Fulana\n4     33   Ciclana",
      "text/html": "<div>\n<style scoped>\n    .dataframe tbody tr th:only-of-type {\n        vertical-align: middle;\n    }\n\n    .dataframe tbody tr th {\n        vertical-align: top;\n    }\n\n    .dataframe thead th {\n        text-align: right;\n    }\n</style>\n<table border=\"1\" class=\"dataframe\">\n  <thead>\n    <tr style=\"text-align: right;\">\n      <th></th>\n      <th>Idade</th>\n      <th>nome</th>\n    </tr>\n  </thead>\n  <tbody>\n    <tr>\n      <th>0</th>\n      <td>43</td>\n      <td>Fulano</td>\n    </tr>\n    <tr>\n      <th>1</th>\n      <td>30</td>\n      <td>Ciclano</td>\n    </tr>\n    <tr>\n      <th>2</th>\n      <td>33</td>\n      <td>Beltrano</td>\n    </tr>\n    <tr>\n      <th>3</th>\n      <td>43</td>\n      <td>Fulana</td>\n    </tr>\n    <tr>\n      <th>4</th>\n      <td>33</td>\n      <td>Ciclana</td>\n    </tr>\n  </tbody>\n</table>\n</div>"
     },
     "execution_count": 28,
     "metadata": {},
     "output_type": "execute_result"
    }
   ]
  },
  {
   "cell_type": "code",
   "metadata": {
    "colab": {
     "base_uri": "https://localhost:8080/",
     "height": 233
    },
    "id": "raxFhBsER1T4",
    "outputId": "acfe6837-39a5-4221-81d4-b04d5bdcd63f"
   },
   "source": [
    "df.set_index('nome',inplace=True)\n",
    "df.head()"
   ],
   "execution_count": 29,
   "outputs": [
    {
     "data": {
      "text/plain": "          Idade\nnome           \nFulano       43\nCiclano      30\nBeltrano     33\nFulana       43\nCiclana      33",
      "text/html": "<div>\n<style scoped>\n    .dataframe tbody tr th:only-of-type {\n        vertical-align: middle;\n    }\n\n    .dataframe tbody tr th {\n        vertical-align: top;\n    }\n\n    .dataframe thead th {\n        text-align: right;\n    }\n</style>\n<table border=\"1\" class=\"dataframe\">\n  <thead>\n    <tr style=\"text-align: right;\">\n      <th></th>\n      <th>Idade</th>\n    </tr>\n    <tr>\n      <th>nome</th>\n      <th></th>\n    </tr>\n  </thead>\n  <tbody>\n    <tr>\n      <th>Fulano</th>\n      <td>43</td>\n    </tr>\n    <tr>\n      <th>Ciclano</th>\n      <td>30</td>\n    </tr>\n    <tr>\n      <th>Beltrano</th>\n      <td>33</td>\n    </tr>\n    <tr>\n      <th>Fulana</th>\n      <td>43</td>\n    </tr>\n    <tr>\n      <th>Ciclana</th>\n      <td>33</td>\n    </tr>\n  </tbody>\n</table>\n</div>"
     },
     "execution_count": 29,
     "metadata": {},
     "output_type": "execute_result"
    }
   ]
  },
  {
   "cell_type": "code",
   "metadata": {
    "colab": {
     "base_uri": "https://localhost:8080/"
    },
    "id": "_6am0UCXSX_U",
    "outputId": "e15a077e-bbc1-4864-bea5-0e416946cc65"
   },
   "source": [
    "df.loc['Fulana']"
   ],
   "execution_count": 30,
   "outputs": [
    {
     "data": {
      "text/plain": "Idade    43\nName: Fulana, dtype: int64"
     },
     "execution_count": 30,
     "metadata": {},
     "output_type": "execute_result"
    }
   ]
  },
  {
   "cell_type": "code",
   "metadata": {
    "colab": {
     "base_uri": "https://localhost:8080/"
    },
    "id": "cvkQiVvpTVn3",
    "outputId": "80df0f42-368d-4c0c-e722-45bb09fce153"
   },
   "source": [
    "for a,b in zip(df.index,df.values):\n",
    "  print(a,b)"
   ],
   "execution_count": 31,
   "outputs": [
    {
     "name": "stdout",
     "output_type": "stream",
     "text": [
      "Fulano [43]\n",
      "Ciclano [30]\n",
      "Beltrano [33]\n",
      "Fulana [43]\n",
      "Ciclana [33]\n"
     ]
    }
   ]
  },
  {
   "cell_type": "code",
   "metadata": {
    "colab": {
     "base_uri": "https://localhost:8080/"
    },
    "id": "3Mow5JoUTi5T",
    "outputId": "379a06c9-30eb-43a7-ddad-e6748d8b2134"
   },
   "source": [
    "for a,b in zip(df.index,df.values):\n",
    "  print(a,b[0])"
   ],
   "execution_count": 32,
   "outputs": [
    {
     "name": "stdout",
     "output_type": "stream",
     "text": [
      "Fulano 43\n",
      "Ciclano 30\n",
      "Beltrano 33\n",
      "Fulana 43\n",
      "Ciclana 33\n"
     ]
    }
   ]
  },
  {
   "cell_type": "code",
   "metadata": {
    "colab": {
     "base_uri": "https://localhost:8080/"
    },
    "id": "xAufhVffTmWE",
    "outputId": "a6b0bc1e-ab9a-4787-b58f-c8bce3460f04"
   },
   "source": [
    "df.dtypes"
   ],
   "execution_count": 33,
   "outputs": [
    {
     "data": {
      "text/plain": "Idade    int64\ndtype: object"
     },
     "execution_count": 33,
     "metadata": {},
     "output_type": "execute_result"
    }
   ]
  },
  {
   "cell_type": "markdown",
   "metadata": {
    "id": "Zr3oah7c7Tyd"
   },
   "source": [
    "<h3> Exercícios</b>"
   ]
  },
  {
   "cell_type": "markdown",
   "metadata": {
    "id": "oy7oTFbd7Xlh"
   },
   "source": [
    "1. Crie um Data Frame com 10 linhas e colunas contendo nome, idade, cidade e cep."
   ]
  },
  {
   "cell_type": "code",
   "metadata": {
    "id": "Con9Cqc162ZD"
   },
   "source": [
    "dados = pd.DataFrame({'nome':['Alisson','Angelo','Artur','Cloris','Clara','Masha','Safira','Nala','Bia','Arlindo'],'idade':[27,28,26,50,8,6,4,3,24,62],'cidade':['Belo Horizonte','Betim','São Paulo','Virginópolis','Virginópolis','Rio de Janeiro','Itabira','Belo Horizonte','Betim','Montes Claros'],'cep':['31998-320','34852-580','15202-987','33521-880','11432-471','13452-854','63289-834','69852-181','33652-986','25685-662']})\n",
    "display(dados)"
   ],
   "execution_count": 34,
   "outputs": [
    {
     "data": {
      "text/plain": "      nome  idade          cidade        cep\n0  Alisson     27  Belo Horizonte  31998-320\n1   Angelo     28           Betim  34852-580\n2    Artur     26       São Paulo  15202-987\n3   Cloris     50    Virginópolis  33521-880\n4    Clara      8    Virginópolis  11432-471\n5    Masha      6  Rio de Janeiro  13452-854\n6   Safira      4         Itabira  63289-834\n7     Nala      3  Belo Horizonte  69852-181\n8      Bia     24           Betim  33652-986\n9  Arlindo     62   Montes Claros  25685-662",
      "text/html": "<div>\n<style scoped>\n    .dataframe tbody tr th:only-of-type {\n        vertical-align: middle;\n    }\n\n    .dataframe tbody tr th {\n        vertical-align: top;\n    }\n\n    .dataframe thead th {\n        text-align: right;\n    }\n</style>\n<table border=\"1\" class=\"dataframe\">\n  <thead>\n    <tr style=\"text-align: right;\">\n      <th></th>\n      <th>nome</th>\n      <th>idade</th>\n      <th>cidade</th>\n      <th>cep</th>\n    </tr>\n  </thead>\n  <tbody>\n    <tr>\n      <th>0</th>\n      <td>Alisson</td>\n      <td>27</td>\n      <td>Belo Horizonte</td>\n      <td>31998-320</td>\n    </tr>\n    <tr>\n      <th>1</th>\n      <td>Angelo</td>\n      <td>28</td>\n      <td>Betim</td>\n      <td>34852-580</td>\n    </tr>\n    <tr>\n      <th>2</th>\n      <td>Artur</td>\n      <td>26</td>\n      <td>São Paulo</td>\n      <td>15202-987</td>\n    </tr>\n    <tr>\n      <th>3</th>\n      <td>Cloris</td>\n      <td>50</td>\n      <td>Virginópolis</td>\n      <td>33521-880</td>\n    </tr>\n    <tr>\n      <th>4</th>\n      <td>Clara</td>\n      <td>8</td>\n      <td>Virginópolis</td>\n      <td>11432-471</td>\n    </tr>\n    <tr>\n      <th>5</th>\n      <td>Masha</td>\n      <td>6</td>\n      <td>Rio de Janeiro</td>\n      <td>13452-854</td>\n    </tr>\n    <tr>\n      <th>6</th>\n      <td>Safira</td>\n      <td>4</td>\n      <td>Itabira</td>\n      <td>63289-834</td>\n    </tr>\n    <tr>\n      <th>7</th>\n      <td>Nala</td>\n      <td>3</td>\n      <td>Belo Horizonte</td>\n      <td>69852-181</td>\n    </tr>\n    <tr>\n      <th>8</th>\n      <td>Bia</td>\n      <td>24</td>\n      <td>Betim</td>\n      <td>33652-986</td>\n    </tr>\n    <tr>\n      <th>9</th>\n      <td>Arlindo</td>\n      <td>62</td>\n      <td>Montes Claros</td>\n      <td>25685-662</td>\n    </tr>\n  </tbody>\n</table>\n</div>"
     },
     "metadata": {},
     "output_type": "display_data"
    }
   ]
  },
  {
   "cell_type": "markdown",
   "metadata": {
    "id": "fzCgUOB371Ui"
   },
   "source": [
    "2. Conte quantas pessoas vivem em cada cidade e qual é a média de idade das pessoas."
   ]
  },
  {
   "cell_type": "code",
   "metadata": {
    "id": "e_diEm0m7wwQ",
    "pycharm": {
     "name": "#%%\n"
    }
   },
   "source": [
    "print(dados['cidade'].value_counts())\n",
    "\n",
    "\n",
    "media = dados['idade'].sum() / len(dados['idade'])\n",
    "print('---'*30)\n",
    "print('A média das idades é {}'.format(media))"
   ],
   "execution_count": 35,
   "outputs": [
    {
     "name": "stdout",
     "output_type": "stream",
     "text": [
      "Betim             2\n",
      "Belo Horizonte    2\n",
      "Virginópolis      2\n",
      "Rio de Janeiro    1\n",
      "São Paulo         1\n",
      "Itabira           1\n",
      "Montes Claros     1\n",
      "Name: cidade, dtype: int64\n",
      "------------------------------------------------------------------------------------------\n",
      "A média das idades é 23.8\n"
     ]
    }
   ]
  },
  {
   "cell_type": "markdown",
   "source": [
    "3. Calcule a média de idade das pessoas por cidade."
   ],
   "metadata": {
    "collapsed": false,
    "pycharm": {
     "name": "#%% md\n"
    }
   }
  },
  {
   "cell_type": "code",
   "execution_count": 40,
   "outputs": [
    {
     "name": "stdout",
     "output_type": "stream",
     "text": [
      "cidade\n",
      "Belo Horizonte    15\n",
      "Betim             26\n",
      "Itabira            4\n",
      "Montes Claros     62\n",
      "Rio de Janeiro     6\n",
      "São Paulo         26\n",
      "Virginópolis      29\n",
      "Name: idade, dtype: int64\n"
     ]
    }
   ],
   "source": [
    "\n",
    "means = dados.groupby('cidade')['idade'].mean()\n",
    "print(means)\n"
   ],
   "metadata": {
    "collapsed": false,
    "pycharm": {
     "name": "#%%\n"
    }
   }
  }
 ]
}