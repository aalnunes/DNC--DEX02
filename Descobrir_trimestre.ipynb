{
  "nbformat": 4,
  "nbformat_minor": 0,
  "metadata": {
    "colab": {
      "name": "Descobrir trimestre.ipynb",
      "provenance": [],
      "authorship_tag": "ABX9TyPOqyKH2a4rJZ+ASvJC94AW",
      "include_colab_link": true
    },
    "kernelspec": {
      "name": "python3",
      "display_name": "Python 3"
    },
    "language_info": {
      "name": "python"
    }
  },
  "cells": [
    {
      "cell_type": "markdown",
      "metadata": {
        "id": "view-in-github",
        "colab_type": "text"
      },
      "source": [
        "<a href=\"https://colab.research.google.com/github/aalnunes/DNC--DEX02/blob/main/Descobrir_trimestre.ipynb\" target=\"_parent\"><img src=\"https://colab.research.google.com/assets/colab-badge.svg\" alt=\"Open In Colab\"/></a>"
      ]
    },
    {
      "cell_type": "markdown",
      "metadata": {
        "id": "K-Q-vP-hjssA"
      },
      "source": [
        "Faça um script que você coloque a quantidade de dias e descubra em\n",
        "qual trimestre esse dia está no ano.\n"
      ]
    },
    {
      "cell_type": "code",
      "metadata": {
        "colab": {
          "base_uri": "https://localhost:8080/"
        },
        "id": "NBRV02Rti3Pg",
        "outputId": "30729cbd-b268-4898-fe92-3c9a8a49f91a"
      },
      "source": [
        "dias = int(input('Informe a quantidade de dias: '))\n",
        "\n",
        "if dias <= 121:\n",
        "  print('Voce esta no primeiro trimestre')\n",
        "elif dias < 243 and dias > 121:\n",
        "  print('Voce esta no segundo trimestre')\n",
        "else:\n",
        "  print('Voce esta no terceiro trimestre')\n"
      ],
      "execution_count": 4,
      "outputs": [
        {
          "output_type": "stream",
          "name": "stdout",
          "text": [
            "Informe a quantidade de dias: 300\n",
            "Voce esta no terceiro trimestre\n"
          ]
        }
      ]
    }
  ]
}