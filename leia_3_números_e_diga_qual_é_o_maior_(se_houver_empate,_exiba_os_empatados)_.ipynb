{
  "nbformat": 4,
  "nbformat_minor": 0,
  "metadata": {
    "colab": {
      "name": "leia 3 números e diga qual é o maior (se houver empate, exiba os empatados)..ipynb",
      "provenance": [],
      "authorship_tag": "ABX9TyMOfzNXA1uIAbGjolVlDXEV",
      "include_colab_link": true
    },
    "kernelspec": {
      "name": "python3",
      "display_name": "Python 3"
    },
    "language_info": {
      "name": "python"
    }
  },
  "cells": [
    {
      "cell_type": "markdown",
      "metadata": {
        "id": "view-in-github",
        "colab_type": "text"
      },
      "source": [
        "<a href=\"https://colab.research.google.com/github/aalnunes/DNC--DEX02/blob/main/leia_3_n%C3%BAmeros_e_diga_qual_%C3%A9_o_maior_(se_houver_empate%2C_exiba_os_empatados)_.ipynb\" target=\"_parent\"><img src=\"https://colab.research.google.com/assets/colab-badge.svg\" alt=\"Open In Colab\"/></a>"
      ]
    },
    {
      "cell_type": "markdown",
      "metadata": {
        "id": "4LiXkAROlKRX"
      },
      "source": [
        "Desenvolva um sistema que leia 3 números e diga qual é o maior (se\n",
        "houver empate, exiba os empatados).\n"
      ]
    },
    {
      "cell_type": "code",
      "metadata": {
        "colab": {
          "base_uri": "https://localhost:8080/"
        },
        "id": "9d2zRZktlH86",
        "outputId": "9179c4b4-b454-4c4a-d924-76007c857884"
      },
      "source": [
        "a = int(input('Insira um numero: '))\n",
        "b = int(input('Insira mais um numero: '))\n",
        "c = int(input('Insira outro numero: '))\n",
        "\n",
        "if a == b and b == c:\n",
        "  print(a,b,c)\n",
        "if a == b :\n",
        "  print(a,b)\n",
        "if a == c :\n",
        "  print(a,c)\n",
        "if c == b :\n",
        "  print(c,b)\n",
        "elif a > b and a > c:\n",
        "  print(a)\n",
        "elif b > a and b > c:\n",
        "  print(b)\n",
        "elif c > a and c > b:\n",
        "  print(c)\n"
      ],
      "execution_count": 14,
      "outputs": [
        {
          "output_type": "stream",
          "name": "stdout",
          "text": [
            "Insira um numero: 10\n",
            "Insira mais um numero: 0\n",
            "Insira outro numero: 10\n",
            "10 10\n"
          ]
        }
      ]
    }
  ]
}